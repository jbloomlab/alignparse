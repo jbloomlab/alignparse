{
 "cells": [
  {
   "cell_type": "markdown",
   "metadata": {},
   "source": [
    "# Test `alignparse.ccs.Summaries`\n",
    "Tests this class and makes sure it works with and without reports and `np` tags giving number of passes.\n",
    "This Jupyter notebook is designed to be run with `nbval` for the testing.\n",
    "\n",
    "First, import Python modules:"
   ]
  },
  {
   "cell_type": "code",
   "execution_count": 1,
   "metadata": {
    "execution": {
     "iopub.execute_input": "2024-05-23T17:58:56.339848Z",
     "iopub.status.busy": "2024-05-23T17:58:56.339266Z",
     "iopub.status.idle": "2024-05-23T17:58:57.907054Z",
     "shell.execute_reply": "2024-05-23T17:58:57.906185Z",
     "shell.execute_reply.started": "2024-05-23T17:58:56.339786Z"
    }
   },
   "outputs": [],
   "source": [
    "import contextlib\n",
    "import os\n",
    "import tempfile\n",
    "import warnings\n",
    "\n",
    "import Bio.SeqIO\n",
    "\n",
    "import pandas as pd\n",
    "\n",
    "import alignparse.ccs"
   ]
  },
  {
   "cell_type": "markdown",
   "metadata": {},
   "source": [
    "Hide warnings that clutter output:"
   ]
  },
  {
   "cell_type": "code",
   "execution_count": 2,
   "metadata": {
    "execution": {
     "iopub.execute_input": "2024-05-23T17:58:57.911856Z",
     "iopub.status.busy": "2024-05-23T17:58:57.911490Z",
     "iopub.status.idle": "2024-05-23T17:58:57.914937Z",
     "shell.execute_reply": "2024-05-23T17:58:57.914327Z",
     "shell.execute_reply.started": "2024-05-23T17:58:57.911828Z"
    }
   },
   "outputs": [],
   "source": [
    "warnings.simplefilter(\"ignore\")"
   ]
  },
  {
   "cell_type": "markdown",
   "metadata": {},
   "source": [
    "Data frame giving the `ccs` report file and the CCS FASTQ file for each run:"
   ]
  },
  {
   "cell_type": "code",
   "execution_count": 3,
   "metadata": {
    "execution": {
     "iopub.execute_input": "2024-05-23T17:58:57.919085Z",
     "iopub.status.busy": "2024-05-23T17:58:57.918736Z",
     "iopub.status.idle": "2024-05-23T17:58:57.924557Z",
     "shell.execute_reply": "2024-05-23T17:58:57.923859Z",
     "shell.execute_reply.started": "2024-05-23T17:58:57.919059Z"
    }
   },
   "outputs": [],
   "source": [
    "run_names = [\"recA_lib-1\", \"recA_lib-2\"]\n",
    "ccs_dir = \"../notebooks/input_files\"\n",
    "\n",
    "ccs_df = pd.DataFrame(\n",
    "    {\n",
    "        \"name\": run_names,\n",
    "        \"report\": [f\"{ccs_dir}/{name}_report.txt\" for name in run_names],\n",
    "        \"fastq\": [f\"{ccs_dir}/{name}_ccs.fastq\" for name in run_names],\n",
    "    }\n",
    ")"
   ]
  },
  {
   "cell_type": "markdown",
   "metadata": {},
   "source": [
    "Create an `alignparse.ccs.Summaries` object:"
   ]
  },
  {
   "cell_type": "code",
   "execution_count": 4,
   "metadata": {
    "execution": {
     "iopub.execute_input": "2024-05-23T17:58:57.927795Z",
     "iopub.status.busy": "2024-05-23T17:58:57.927419Z",
     "iopub.status.idle": "2024-05-23T17:58:58.645322Z",
     "shell.execute_reply": "2024-05-23T17:58:58.643782Z",
     "shell.execute_reply.started": "2024-05-23T17:58:57.927770Z"
    }
   },
   "outputs": [
    {
     "name": "stdout",
     "output_type": "stream",
     "text": [
      "recA_lib-1\n",
      "recA_lib-2\n"
     ]
    }
   ],
   "source": [
    "summaries = alignparse.ccs.Summaries(ccs_df)\n",
    "\n",
    "for summary in summaries.summaries:\n",
    "    print(summary.name)"
   ]
  },
  {
   "cell_type": "markdown",
   "metadata": {},
   "source": [
    "Confirm ZMW stats exist:"
   ]
  },
  {
   "cell_type": "code",
   "execution_count": 5,
   "metadata": {
    "execution": {
     "iopub.execute_input": "2024-05-23T17:58:58.651892Z",
     "iopub.status.busy": "2024-05-23T17:58:58.651235Z",
     "iopub.status.idle": "2024-05-23T17:58:58.661424Z",
     "shell.execute_reply": "2024-05-23T17:58:58.660730Z",
     "shell.execute_reply.started": "2024-05-23T17:58:58.651857Z"
    }
   },
   "outputs": [
    {
     "data": {
      "text/plain": [
       "True"
      ]
     },
     "execution_count": 5,
     "metadata": {},
     "output_type": "execute_result"
    }
   ],
   "source": [
    "summaries.has_zmw_stats()"
   ]
  },
  {
   "cell_type": "markdown",
   "metadata": {},
   "source": [
    "Get and plot the ZMW stats:"
   ]
  },
  {
   "cell_type": "code",
   "execution_count": 6,
   "metadata": {
    "execution": {
     "iopub.execute_input": "2024-05-23T17:58:58.665712Z",
     "iopub.status.busy": "2024-05-23T17:58:58.665262Z",
     "iopub.status.idle": "2024-05-23T17:58:58.722159Z",
     "shell.execute_reply": "2024-05-23T17:58:58.721376Z",
     "shell.execute_reply.started": "2024-05-23T17:58:58.665684Z"
    }
   },
   "outputs": [
    {
     "data": {
      "text/html": [
       "<div>\n",
       "<style scoped>\n",
       "    .dataframe tbody tr th:only-of-type {\n",
       "        vertical-align: middle;\n",
       "    }\n",
       "\n",
       "    .dataframe tbody tr th {\n",
       "        vertical-align: top;\n",
       "    }\n",
       "\n",
       "    .dataframe thead th {\n",
       "        text-align: right;\n",
       "    }\n",
       "</style>\n",
       "<table border=\"1\" class=\"dataframe\">\n",
       "  <thead>\n",
       "    <tr style=\"text-align: right;\">\n",
       "      <th></th>\n",
       "      <th>name</th>\n",
       "      <th>status</th>\n",
       "      <th>number</th>\n",
       "      <th>fraction</th>\n",
       "    </tr>\n",
       "  </thead>\n",
       "  <tbody>\n",
       "    <tr>\n",
       "      <th>0</th>\n",
       "      <td>recA_lib-1</td>\n",
       "      <td>Success -- CCS generated</td>\n",
       "      <td>139</td>\n",
       "      <td>0.837349</td>\n",
       "    </tr>\n",
       "    <tr>\n",
       "      <th>1</th>\n",
       "      <td>recA_lib-1</td>\n",
       "      <td>Failed -- Lacking full passes</td>\n",
       "      <td>19</td>\n",
       "      <td>0.114458</td>\n",
       "    </tr>\n",
       "    <tr>\n",
       "      <th>2</th>\n",
       "      <td>recA_lib-1</td>\n",
       "      <td>Failed -- Draft generation error</td>\n",
       "      <td>3</td>\n",
       "      <td>0.018072</td>\n",
       "    </tr>\n",
       "    <tr>\n",
       "      <th>3</th>\n",
       "      <td>recA_lib-1</td>\n",
       "      <td>Failed -- CCS below minimum RQ</td>\n",
       "      <td>2</td>\n",
       "      <td>0.012048</td>\n",
       "    </tr>\n",
       "    <tr>\n",
       "      <th>4</th>\n",
       "      <td>recA_lib-1</td>\n",
       "      <td>Failed -- Min coverage violation</td>\n",
       "      <td>1</td>\n",
       "      <td>0.006024</td>\n",
       "    </tr>\n",
       "    <tr>\n",
       "      <th>5</th>\n",
       "      <td>recA_lib-1</td>\n",
       "      <td>Failed -- Other reason</td>\n",
       "      <td>2</td>\n",
       "      <td>0.012048</td>\n",
       "    </tr>\n",
       "    <tr>\n",
       "      <th>6</th>\n",
       "      <td>recA_lib-2</td>\n",
       "      <td>Success -- CCS generated</td>\n",
       "      <td>124</td>\n",
       "      <td>0.794872</td>\n",
       "    </tr>\n",
       "    <tr>\n",
       "      <th>7</th>\n",
       "      <td>recA_lib-2</td>\n",
       "      <td>Failed -- Lacking full passes</td>\n",
       "      <td>22</td>\n",
       "      <td>0.141026</td>\n",
       "    </tr>\n",
       "    <tr>\n",
       "      <th>8</th>\n",
       "      <td>recA_lib-2</td>\n",
       "      <td>Failed -- Draft generation error</td>\n",
       "      <td>4</td>\n",
       "      <td>0.025641</td>\n",
       "    </tr>\n",
       "    <tr>\n",
       "      <th>9</th>\n",
       "      <td>recA_lib-2</td>\n",
       "      <td>Failed -- CCS below minimum RQ</td>\n",
       "      <td>2</td>\n",
       "      <td>0.012821</td>\n",
       "    </tr>\n",
       "    <tr>\n",
       "      <th>10</th>\n",
       "      <td>recA_lib-2</td>\n",
       "      <td>Failed -- Min coverage violation</td>\n",
       "      <td>2</td>\n",
       "      <td>0.012821</td>\n",
       "    </tr>\n",
       "    <tr>\n",
       "      <th>11</th>\n",
       "      <td>recA_lib-2</td>\n",
       "      <td>Failed -- Other reason</td>\n",
       "      <td>2</td>\n",
       "      <td>0.012821</td>\n",
       "    </tr>\n",
       "  </tbody>\n",
       "</table>\n",
       "</div>"
      ],
      "text/plain": [
       "          name                            status  number  fraction\n",
       "0   recA_lib-1          Success -- CCS generated     139  0.837349\n",
       "1   recA_lib-1     Failed -- Lacking full passes      19  0.114458\n",
       "2   recA_lib-1  Failed -- Draft generation error       3  0.018072\n",
       "3   recA_lib-1    Failed -- CCS below minimum RQ       2  0.012048\n",
       "4   recA_lib-1  Failed -- Min coverage violation       1  0.006024\n",
       "5   recA_lib-1            Failed -- Other reason       2  0.012048\n",
       "6   recA_lib-2          Success -- CCS generated     124  0.794872\n",
       "7   recA_lib-2     Failed -- Lacking full passes      22  0.141026\n",
       "8   recA_lib-2  Failed -- Draft generation error       4  0.025641\n",
       "9   recA_lib-2    Failed -- CCS below minimum RQ       2  0.012821\n",
       "10  recA_lib-2  Failed -- Min coverage violation       2  0.012821\n",
       "11  recA_lib-2            Failed -- Other reason       2  0.012821"
      ]
     },
     "execution_count": 6,
     "metadata": {},
     "output_type": "execute_result"
    }
   ],
   "source": [
    "summaries.zmw_stats()"
   ]
  },
  {
   "cell_type": "markdown",
   "metadata": {},
   "source": [
    "Plot these stats:"
   ]
  },
  {
   "cell_type": "code",
   "execution_count": 7,
   "metadata": {
    "execution": {
     "iopub.execute_input": "2024-05-23T17:58:58.723944Z",
     "iopub.status.busy": "2024-05-23T17:58:58.723624Z",
     "iopub.status.idle": "2024-05-23T17:59:00.087490Z",
     "shell.execute_reply": "2024-05-23T17:59:00.086655Z",
     "shell.execute_reply.started": "2024-05-23T17:58:58.723916Z"
    }
   },
   "outputs": [],
   "source": [
    "# NBVAL_IGNORE_OUTPUT\n",
    "\n",
    "p = summaries.plot_zmw_stats()\n",
    "_ = p.draw()"
   ]
  },
  {
   "cell_type": "markdown",
   "metadata": {},
   "source": [
    "Now do the same with a `Summaries` object with no reports defined:"
   ]
  },
  {
   "cell_type": "code",
   "execution_count": 8,
   "metadata": {
    "execution": {
     "iopub.execute_input": "2024-05-23T17:59:00.089298Z",
     "iopub.status.busy": "2024-05-23T17:59:00.088766Z",
     "iopub.status.idle": "2024-05-23T17:59:00.146421Z",
     "shell.execute_reply": "2024-05-23T17:59:00.145696Z",
     "shell.execute_reply.started": "2024-05-23T17:59:00.089265Z"
    }
   },
   "outputs": [],
   "source": [
    "summaries_no_zmw = alignparse.ccs.Summaries(ccs_df, report_col=None, ncpus=1)"
   ]
  },
  {
   "cell_type": "markdown",
   "metadata": {},
   "source": [
    "No ZMW stats defined:"
   ]
  },
  {
   "cell_type": "code",
   "execution_count": 9,
   "metadata": {
    "execution": {
     "iopub.execute_input": "2024-05-23T17:59:00.147778Z",
     "iopub.status.busy": "2024-05-23T17:59:00.147442Z",
     "iopub.status.idle": "2024-05-23T17:59:00.152675Z",
     "shell.execute_reply": "2024-05-23T17:59:00.152034Z",
     "shell.execute_reply.started": "2024-05-23T17:59:00.147753Z"
    }
   },
   "outputs": [
    {
     "data": {
      "text/plain": [
       "False"
      ]
     },
     "execution_count": 9,
     "metadata": {},
     "output_type": "execute_result"
    }
   ],
   "source": [
    "summaries_no_zmw.has_zmw_stats()"
   ]
  },
  {
   "cell_type": "markdown",
   "metadata": {},
   "source": [
    "So trying to get stats raises an error:"
   ]
  },
  {
   "cell_type": "code",
   "execution_count": 10,
   "metadata": {
    "execution": {
     "iopub.execute_input": "2024-05-23T17:59:00.153931Z",
     "iopub.status.busy": "2024-05-23T17:59:00.153606Z",
     "iopub.status.idle": "2024-05-23T17:59:00.159176Z",
     "shell.execute_reply": "2024-05-23T17:59:00.158525Z",
     "shell.execute_reply.started": "2024-05-23T17:59:00.153905Z"
    }
   },
   "outputs": [
    {
     "name": "stdout",
     "output_type": "stream",
     "text": [
      "cannot plot ZMW stats\n"
     ]
    }
   ],
   "source": [
    "try:\n",
    "    summaries_no_zmw.plot_zmw_stats()\n",
    "except ValueError:\n",
    "    print(\"cannot plot ZMW stats\")"
   ]
  },
  {
   "cell_type": "markdown",
   "metadata": {},
   "source": [
    "Now get information on CCS statistics:"
   ]
  },
  {
   "cell_type": "code",
   "execution_count": 11,
   "metadata": {
    "execution": {
     "iopub.execute_input": "2024-05-23T17:59:00.160532Z",
     "iopub.status.busy": "2024-05-23T17:59:00.160152Z",
     "iopub.status.idle": "2024-05-23T17:59:00.179373Z",
     "shell.execute_reply": "2024-05-23T17:59:00.177893Z",
     "shell.execute_reply.started": "2024-05-23T17:59:00.160501Z"
    }
   },
   "outputs": [
    {
     "name": "stdout",
     "output_type": "stream",
     "text": [
      "         name  passes\n",
      "0  recA_lib-1      28\n",
      "1  recA_lib-1      29\n",
      "2  recA_lib-1      22\n",
      "3  recA_lib-1      16\n",
      "4  recA_lib-1      20\n",
      "\n",
      "         name  length\n",
      "0  recA_lib-1    1325\n",
      "1  recA_lib-1    1340\n",
      "2  recA_lib-1    1339\n",
      "3  recA_lib-1     985\n",
      "4  recA_lib-1    1196\n",
      "\n",
      "         name  accuracy\n",
      "0  recA_lib-1  0.999998\n",
      "1  recA_lib-1  0.999976\n",
      "2  recA_lib-1  0.999686\n",
      "3  recA_lib-1  0.999986\n",
      "4  recA_lib-1  0.999592\n",
      "\n"
     ]
    }
   ],
   "source": [
    "for stat in [\"passes\", \"length\", \"accuracy\"]:\n",
    "    if summaries.has_stat(stat):\n",
    "        print(summaries.ccs_stats(stat).head(n=5))\n",
    "        print()\n",
    "    else:\n",
    "        print(f\"no {stat} stat\\n\")"
   ]
  },
  {
   "cell_type": "markdown",
   "metadata": {},
   "source": [
    "Plot these stats:"
   ]
  },
  {
   "cell_type": "code",
   "execution_count": 12,
   "metadata": {
    "execution": {
     "iopub.execute_input": "2024-05-23T17:59:00.181796Z",
     "iopub.status.busy": "2024-05-23T17:59:00.181222Z",
     "iopub.status.idle": "2024-05-23T17:59:01.013001Z",
     "shell.execute_reply": "2024-05-23T17:59:01.012006Z",
     "shell.execute_reply.started": "2024-05-23T17:59:00.181744Z"
    }
   },
   "outputs": [],
   "source": [
    "# NBVAL_IGNORE_OUTPUT\n",
    "for stat in [\"length\", \"passes\", \"accuracy\"]:\n",
    "    try:\n",
    "        p = summaries.plot_ccs_stats(stat)\n",
    "        _ = p.draw()\n",
    "    except ValueError:\n",
    "        print(f\"Cannot plot {stat}\")"
   ]
  },
  {
   "cell_type": "markdown",
   "metadata": {},
   "source": [
    "Now do the same for a `Summaries` defined using FASTQ files without the `np` tag giving the number of passes:"
   ]
  },
  {
   "cell_type": "code",
   "execution_count": 13,
   "metadata": {
    "execution": {
     "iopub.execute_input": "2024-05-23T17:59:01.014490Z",
     "iopub.status.busy": "2024-05-23T17:59:01.014128Z",
     "iopub.status.idle": "2024-05-23T17:59:01.822653Z",
     "shell.execute_reply": "2024-05-23T17:59:01.821597Z",
     "shell.execute_reply.started": "2024-05-23T17:59:01.014460Z"
    }
   },
   "outputs": [],
   "source": [
    "with contextlib.ExitStack() as stack:\n",
    "    tempfiles = [\n",
    "        stack.enter_context(tempfile.NamedTemporaryFile(\"wt\", suffix=\".fastq\"))\n",
    "        for _ in range(len(ccs_df))\n",
    "    ]\n",
    "    ccs_df = ccs_df.assign(fastq_nopasstag=[f.name for f in tempfiles])\n",
    "    for fout, tup in zip(tempfiles, ccs_df.itertuples()):\n",
    "        seqs = []\n",
    "        for iseq, seq in enumerate(Bio.SeqIO.parse(tup.fastq, \"fastq\")):\n",
    "            if iseq == 0:  # drop np tag from just first\n",
    "                seq.description = seq.description.split()[0]\n",
    "            seqs.append(seq)\n",
    "        Bio.SeqIO.write(seqs, fout, \"fastq\")\n",
    "        fout.flush()\n",
    "    summaries_nopasstag = alignparse.ccs.Summaries(ccs_df, fastq_col=\"fastq_nopasstag\")"
   ]
  },
  {
   "cell_type": "markdown",
   "metadata": {},
   "source": [
    "Now print and plot information without `np` tag:"
   ]
  },
  {
   "cell_type": "code",
   "execution_count": 14,
   "metadata": {
    "execution": {
     "iopub.execute_input": "2024-05-23T17:59:01.825805Z",
     "iopub.status.busy": "2024-05-23T17:59:01.825023Z",
     "iopub.status.idle": "2024-05-23T17:59:01.846751Z",
     "shell.execute_reply": "2024-05-23T17:59:01.843595Z",
     "shell.execute_reply.started": "2024-05-23T17:59:01.825743Z"
    }
   },
   "outputs": [
    {
     "name": "stdout",
     "output_type": "stream",
     "text": [
      "no passes stat\n",
      "\n",
      "         name  length\n",
      "0  recA_lib-1    1325\n",
      "1  recA_lib-1    1340\n",
      "2  recA_lib-1    1339\n",
      "3  recA_lib-1     985\n",
      "4  recA_lib-1    1196\n",
      "\n",
      "         name  accuracy\n",
      "0  recA_lib-1  0.999998\n",
      "1  recA_lib-1  0.999976\n",
      "2  recA_lib-1  0.999686\n",
      "3  recA_lib-1  0.999986\n",
      "4  recA_lib-1  0.999592\n",
      "\n"
     ]
    }
   ],
   "source": [
    "for stat in [\"passes\", \"length\", \"accuracy\"]:\n",
    "    if summaries_nopasstag.has_stat(stat):\n",
    "        print(summaries_nopasstag.ccs_stats(stat).head(n=5))\n",
    "        print()\n",
    "    else:\n",
    "        print(f\"no {stat} stat\\n\")"
   ]
  },
  {
   "cell_type": "code",
   "execution_count": 15,
   "metadata": {
    "execution": {
     "iopub.execute_input": "2024-05-23T17:59:01.848584Z",
     "iopub.status.busy": "2024-05-23T17:59:01.848019Z",
     "iopub.status.idle": "2024-05-23T17:59:02.460463Z",
     "shell.execute_reply": "2024-05-23T17:59:02.459419Z",
     "shell.execute_reply.started": "2024-05-23T17:59:01.848558Z"
    }
   },
   "outputs": [
    {
     "name": "stdout",
     "output_type": "stream",
     "text": [
      "Cannot plot passes\n"
     ]
    }
   ],
   "source": [
    "# NBVAL_IGNORE_OUTPUT\n",
    "for stat in [\"length\", \"passes\", \"accuracy\"]:\n",
    "    try:\n",
    "        p = summaries_nopasstag.plot_ccs_stats(stat)\n",
    "        _ = p.draw()\n",
    "    except ValueError:\n",
    "        print(f\"Cannot plot {stat}\")"
   ]
  }
 ],
 "metadata": {
  "kernelspec": {
   "display_name": "Python 3 (ipykernel)",
   "language": "python",
   "name": "python3"
  },
  "language_info": {
   "codemirror_mode": {
    "name": "ipython",
    "version": 3
   },
   "file_extension": ".py",
   "mimetype": "text/x-python",
   "name": "python",
   "nbconvert_exporter": "python",
   "pygments_lexer": "ipython3",
   "version": "3.11.9"
  },
  "toc": {
   "base_numbering": 1,
   "nav_menu": {},
   "number_sections": false,
   "sideBar": true,
   "skip_h1_title": false,
   "title_cell": "Table of Contents",
   "title_sidebar": "Contents",
   "toc_cell": false,
   "toc_position": {},
   "toc_section_display": true,
   "toc_window_display": true
  }
 },
 "nbformat": 4,
 "nbformat_minor": 4
}
