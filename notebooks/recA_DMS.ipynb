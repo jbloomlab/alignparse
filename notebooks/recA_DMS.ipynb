{
 "cells": [
  {
   "cell_type": "markdown",
   "metadata": {},
   "source": [
    "# RecA deep mutational scanning libraries\n",
    "This example shows how to use [alignparse](https://jbloomlab.github.io/alignparse/index.html) to process PacBio circular consensus sequencing of a barcoded library of RecA variants for deep mutational scanning."
   ]
  },
  {
   "cell_type": "markdown",
   "metadata": {},
   "source": [
    "## Set up for analysis\n",
    "Import necessary Python modules.\n",
    "We use [alignparse](https://jbloomlab.github.io/alignparse/index.html) for most of the operations, [plotnine](https://plotnine.readthedocs.io) for ggplot2-like plotting, and a few functitons from [dms_variants](https://jbloomlab.github.io/dms_variants):"
   ]
  },
  {
   "cell_type": "code",
   "execution_count": 1,
   "metadata": {
    "execution": {
     "iopub.execute_input": "2023-05-26T00:17:45.945518Z",
     "iopub.status.busy": "2023-05-26T00:17:45.944874Z",
     "iopub.status.idle": "2023-05-26T00:17:47.901471Z",
     "shell.execute_reply": "2023-05-26T00:17:47.900597Z",
     "shell.execute_reply.started": "2023-05-26T00:17:45.945486Z"
    }
   },
   "outputs": [],
   "source": [
    "import os\n",
    "import warnings\n",
    "\n",
    "import numpy\n",
    "\n",
    "import pandas as pd\n",
    "\n",
    "from plotnine import *\n",
    "\n",
    "import alignparse.ccs\n",
    "import alignparse.consensus\n",
    "import alignparse.minimap2\n",
    "import alignparse.targets\n",
    "from alignparse.constants import CBPALETTE\n",
    "\n",
    "import dms_variants.utils"
   ]
  },
  {
   "cell_type": "markdown",
   "metadata": {},
   "source": [
    "Suppress warnings that clutter output:"
   ]
  },
  {
   "cell_type": "code",
   "execution_count": 2,
   "metadata": {
    "execution": {
     "iopub.execute_input": "2023-05-26T00:17:47.905483Z",
     "iopub.status.busy": "2023-05-26T00:17:47.905262Z",
     "iopub.status.idle": "2023-05-26T00:17:47.909173Z",
     "shell.execute_reply": "2023-05-26T00:17:47.908437Z",
     "shell.execute_reply.started": "2023-05-26T00:17:47.905460Z"
    }
   },
   "outputs": [],
   "source": [
    "warnings.simplefilter(\"ignore\")"
   ]
  },
  {
   "cell_type": "markdown",
   "metadata": {},
   "source": [
    "Directory for output:"
   ]
  },
  {
   "cell_type": "code",
   "execution_count": 3,
   "metadata": {
    "execution": {
     "iopub.execute_input": "2023-05-26T00:17:47.912317Z",
     "iopub.status.busy": "2023-05-26T00:17:47.912061Z",
     "iopub.status.idle": "2023-05-26T00:17:47.915961Z",
     "shell.execute_reply": "2023-05-26T00:17:47.915313Z",
     "shell.execute_reply.started": "2023-05-26T00:17:47.912295Z"
    }
   },
   "outputs": [],
   "source": [
    "outdir = \"./output_files/\"\n",
    "os.makedirs(outdir, exist_ok=True)"
   ]
  },
  {
   "cell_type": "markdown",
   "metadata": {},
   "source": [
    "## Target amplicon\n",
    "We have performed sequencing of an amplicon that includes the RecA gene along with barcodes and several other features.\n",
    "The amplicon is defined in [Genbank Flat File format](https://www.ncbi.nlm.nih.gov/genbank/samplerecord/).\n",
    "First, let's look at that file.\n",
    "Note how it defines the features; this is how they must be defined to be handled by [alignparse](https://jbloomlab.github.io/alignparse/index.html).\n",
    "Note also how there are ambiguous nucleotides in the barcode and variant tag regions:"
   ]
  },
  {
   "cell_type": "code",
   "execution_count": 4,
   "metadata": {
    "execution": {
     "iopub.execute_input": "2023-05-26T00:17:47.921702Z",
     "iopub.status.busy": "2023-05-26T00:17:47.921380Z",
     "iopub.status.idle": "2023-05-26T00:17:47.926556Z",
     "shell.execute_reply": "2023-05-26T00:17:47.925881Z",
     "shell.execute_reply.started": "2023-05-26T00:17:47.921679Z"
    }
   },
   "outputs": [
    {
     "name": "stdout",
     "output_type": "stream",
     "text": [
      "LOCUS       RecA_PacBio_amplicon    1342 bp ds-DNA     linear       06-AUG-2018\n",
      "DEFINITION  PacBio amplicon for deep mutational scanning of E. coli RecA.\n",
      "ACCESSION   None\n",
      "VERSION     \n",
      "SOURCE      Danny Lawrence\n",
      "  ORGANISM  .\n",
      "COMMENT     PacBio amplicon for RecA libraries.\n",
      "COMMENT     There are single nucleotide tags in the 5' and 3' termini to measure strand exchange.\n",
      "FEATURES             Location/Qualifiers\n",
      "     termini5        1..147\n",
      "                     /label=\"termini 5' of gene\"\n",
      "     gene            148..1206\n",
      "                     /label=\"RecA gene\"\n",
      "     spacer          1207..1285\n",
      "                     /label=\"spacer between gene & barcode\"\n",
      "     barcode         1286..1303\n",
      "                     /label=\"18 nucleotide barcode\"\n",
      "     termini3        1304..1342\n",
      "                     /label=\"termini 3' of barcode\"\n",
      "     variant_tag5    33..33\n",
      "                     /label=\"5' variant tag\"\n",
      "     variant_tag3    1311..1311\n",
      "                     /label=\"3' variant tag\"\n",
      "ORIGIN\n",
      "        1 gcacggcgtc acactttgct atgccatagc atRtttatcc ataagattag cggatcctac\n",
      "       61 ctgacgcttt ttatcgcaac tctctactgt ttctccataa cagaacatat tgactatccg\n",
      "      121 gtattacccg gcatgacagg agtaaaaATG GCTATCGACG AAAACAAACA GAAAGCGTTG\n",
      "      181 GCGGCAGCAC TGGGCCAGAT TGAGAAACAA TTTGGTAAAG GCTCCATCAT GCGCCTGGGT\n",
      "      241 GAAGACCGTT CCATGGATGT GGAAACCATC TCTACCGGTT CGCTTTCACT GGATATCGCG\n",
      "      301 CTTGGGGCAG GTGGTCTGCC GATGGGCCGT ATCGTCGAAA TCTACGGACC GGAATCTTCC\n",
      "      361 GGTAAAACCA CGCTGACGCT GCAGGTGATC GCCGCAGCGC AGCGTGAAGG TAAAACCTGT\n",
      "      421 GCGTTTATCG ATGCTGAACA CGCGCTGGAC CCAATCTACG CACGTAAACT GGGCGTCGAT\n",
      "      481 ATCGACAACC TGCTGTGCTC CCAGCCGGAC ACCGGCGAGC AGGCACTGGA AATCTGTGAC\n",
      "      541 GCCCTGGCGC GTTCTGGCGC AGTAGACGTT ATCGTCGTTG ACTCCGTGGC GGCACTGACG\n",
      "      601 CCGAAAGCGG AAATCGAAGG CGAAATCGGC GACTCTCATA TGGGCCTTGC GGCACGTATG\n",
      "      661 ATGAGCCAGG CGATGCGTAA GCTGGCGGGT AACCTGAAGC AGTCCAACAC GCTGCTGATC\n",
      "      721 TTCATCAACC AGATCCGTAT GAAAATTGGT GTGATGTTCG GCAACCCGGA AACCACTACC\n",
      "      781 GGTGGTAACG CGCTGAAATT CTACGCCTCT GTTCGTCTCG ACATCCGTCG TATCGGCGCG\n",
      "      841 GTGAAAGAGG GCGAAAACGT GGTGGGTAGC GAAACCCGCG TGAAAGTGGT GAAGAACAAA\n",
      "      901 ATCGCTGCGC CGTTTAAACA GGCTGAATTC CAGATCCTCT ACGGCGAAGG TATCAACTTC\n",
      "      961 TACGGCGAAC TGGTTGACCT GGGCGTAAAA GAGAAGCTGA TCGAGAAAGC AGGCGCGTGG\n",
      "     1021 TACAGCTACA AAGGTGAGAA GATCGGTCAG GGTAAAGCGA ATGCGACTGC CTGGCTGAAA\n",
      "     1081 GATAACCCGG AAACCGCGAA AGAGATCGAG AAGAAAGTAC GTGAGTTGCT GCTGAGCAAC\n",
      "     1141 CCGAACTCAA CGCCGGATTT CTCTGTAGAT GATAGCGAAG GCGTAGCAGA AACTAACGAA\n",
      "     1201 GATTTTTAAt cgtcttgttt gatacacaag ggtcgcatct gcggcccttt tgctttttta\n",
      "     1261 agttgtaagg atatgccatt ctagannnnn nnnnnnnnnn nnnagatcgg Yagagcgtcg\n",
      "     1321 tgtagggaaa gagtgtggta cc   \n",
      "//\n",
      "\n"
     ]
    }
   ],
   "source": [
    "recA_targetfile = \"input_files/recA_amplicon.gb\"\n",
    "\n",
    "with open(recA_targetfile) as f:\n",
    "    print(f.read())"
   ]
  },
  {
   "cell_type": "markdown",
   "metadata": {},
   "source": [
    "Along with the Genbank file giving the sequence of the amplicon, we have a YAML file specifying how to filter and parse alignments to this amplicon.\n",
    "Below is the text of the YAML file.\n",
    "\n",
    "As you can see below, the YAML file specifies how well alignments must match the target in order to be retained.\n",
    "The query clipping indicates the max amount of the query that can be clipped at each end prior to the alignment.\n",
    "For each feature, there is a number indicating the max allowable number of nucleotides of that feature can be clipped in the alignment, as well as the max allowable number of mutated nucleotides (indels count in proportion to the number of nucleotide mutations) and mutation \"operations\" (indels count as one operation regardless of size).\n",
    "Below the mutation operation filter is all set to `null`, meaning that for this analysis all the filtering is done on the number of mutated nucleotides.\n",
    "When filters are missing for a feature, they are automatically set to zero.\n",
    "\n",
    "The YAML file also specifies what information is parsed from alignments that are not filtered.\n",
    "As you can see, for some features we parse the mutations or the full sequence of the feature, along with the accuracy of that feature in the sequencing query (computed from the Q-values):"
   ]
  },
  {
   "cell_type": "code",
   "execution_count": 5,
   "metadata": {
    "execution": {
     "iopub.execute_input": "2023-05-26T00:17:47.929531Z",
     "iopub.status.busy": "2023-05-26T00:17:47.929336Z",
     "iopub.status.idle": "2023-05-26T00:17:47.933280Z",
     "shell.execute_reply": "2023-05-26T00:17:47.932630Z",
     "shell.execute_reply.started": "2023-05-26T00:17:47.929511Z"
    }
   },
   "outputs": [
    {
     "name": "stdout",
     "output_type": "stream",
     "text": [
      "RecA_PacBio_amplicon:\n",
      "  query_clip5: 4\n",
      "  query_clip3: 4\n",
      "  termini5:\n",
      "    filter:\n",
      "      clip5: 4\n",
      "      mutation_nt_count: 1\n",
      "      mutation_op_count: null\n",
      "  gene:\n",
      "    filter:\n",
      "      mutation_nt_count: 30\n",
      "      mutation_op_count: null\n",
      "    return: [mutations, accuracy]\n",
      "  spacer:\n",
      "    filter:\n",
      "      mutation_nt_count: 1\n",
      "      mutation_op_count: null\n",
      "  barcode:\n",
      "    return: [sequence, accuracy]\n",
      "  termini3:\n",
      "    filter:\n",
      "      clip3: 4\n",
      "      mutation_nt_count: 1\n",
      "      mutation_op_count: null\n",
      "  variant_tag5:\n",
      "    return: sequence\n",
      "  variant_tag3:\n",
      "    return: sequence\n",
      "\n"
     ]
    }
   ],
   "source": [
    "recA_parse_specs_file = \"input_files/recA_feature_parse_specs.yaml\"\n",
    "with open(recA_parse_specs_file) as f:\n",
    "    print(f.read())"
   ]
  },
  {
   "cell_type": "markdown",
   "metadata": {},
   "source": [
    "We now read the amplicon into an [alignparse.targets.Targets](https://jbloomlab.github.io/alignparse/alignparse.targets.html#alignparse.targets.Targets) object with the feature-parsing specs:"
   ]
  },
  {
   "cell_type": "code",
   "execution_count": 6,
   "metadata": {
    "execution": {
     "iopub.execute_input": "2023-05-26T00:17:47.936657Z",
     "iopub.status.busy": "2023-05-26T00:17:47.936364Z",
     "iopub.status.idle": "2023-05-26T00:17:47.959689Z",
     "shell.execute_reply": "2023-05-26T00:17:47.958833Z",
     "shell.execute_reply.started": "2023-05-26T00:17:47.936637Z"
    }
   },
   "outputs": [],
   "source": [
    "targets = alignparse.targets.Targets(\n",
    "    seqsfile=recA_targetfile, feature_parse_specs=recA_parse_specs_file\n",
    ")"
   ]
  },
  {
   "cell_type": "markdown",
   "metadata": {},
   "source": [
    "(Note that although we just have one target in this example, there can be multiple targets specified in `seqsfile` and `feature_parse_specs` when initializing a [Targets](https://jbloomlab.github.io/alignparse/alignparse.targets.html#alignparse.targets.Targets). See the [Lassa virus glycoprotein](https://jbloomlab.github.io/alignparse/lasv_pilot.html) or [Single-cell virus sequencing](https://jbloomlab.github.io/alignparse/flu_virus_seq_example.html) example notebooks for examples of this.)\n",
    "\n",
    "We can plot the [Targets](https://jbloomlab.github.io/alignparse/alignparse.targets.html#alignparse.targets.Targets) object:"
   ]
  },
  {
   "cell_type": "code",
   "execution_count": 7,
   "metadata": {
    "execution": {
     "iopub.execute_input": "2023-05-26T00:17:47.962937Z",
     "iopub.status.busy": "2023-05-26T00:17:47.962742Z",
     "iopub.status.idle": "2023-05-26T00:17:48.157416Z",
     "shell.execute_reply": "2023-05-26T00:17:48.156504Z",
     "shell.execute_reply.started": "2023-05-26T00:17:47.962916Z"
    }
   },
   "outputs": [
    {
     "data": {
      "image/png": "[encoded data removed]",
      "text/plain": [
       "<Figure size 1000x300 with 1 Axes>"
      ]
     },
     "metadata": {},
     "output_type": "display_data"
    }
   ],
   "source": [
    "_ = targets.plot(ax_width=10)"
   ]
  },
  {
   "cell_type": "markdown",
   "metadata": {},
   "source": [
    "We can also look at the featue parsing specifications as a dict or YAML string (here we do it as YAML string).\n",
    "Note that all the defaults that were not specified in the YAML file above have now been filled in:"
   ]
  },
  {
   "cell_type": "code",
   "execution_count": 8,
   "metadata": {
    "execution": {
     "iopub.execute_input": "2023-05-26T00:17:48.160919Z",
     "iopub.status.busy": "2023-05-26T00:17:48.160639Z",
     "iopub.status.idle": "2023-05-26T00:17:48.166882Z",
     "shell.execute_reply": "2023-05-26T00:17:48.166192Z",
     "shell.execute_reply.started": "2023-05-26T00:17:48.160898Z"
    }
   },
   "outputs": [
    {
     "name": "stdout",
     "output_type": "stream",
     "text": [
      "RecA_PacBio_amplicon:\n",
      "  query_clip5: 4\n",
      "  query_clip3: 4\n",
      "  termini5:\n",
      "    filter:\n",
      "      clip5: 4\n",
      "      mutation_nt_count: 1\n",
      "      mutation_op_count: null\n",
      "      clip3: 0\n",
      "    return: []\n",
      "  gene:\n",
      "    filter:\n",
      "      mutation_nt_count: 30\n",
      "      mutation_op_count: null\n",
      "      clip5: 0\n",
      "      clip3: 0\n",
      "    return:\n",
      "    - mutations\n",
      "    - accuracy\n",
      "  spacer:\n",
      "    filter:\n",
      "      mutation_nt_count: 1\n",
      "      mutation_op_count: null\n",
      "      clip5: 0\n",
      "      clip3: 0\n",
      "    return: []\n",
      "  barcode:\n",
      "    return:\n",
      "    - sequence\n",
      "    - accuracy\n",
      "    filter:\n",
      "      clip5: 0\n",
      "      clip3: 0\n",
      "      mutation_nt_count: 0\n",
      "      mutation_op_count: 0\n",
      "  termini3:\n",
      "    filter:\n",
      "      clip3: 4\n",
      "      mutation_nt_count: 1\n",
      "      mutation_op_count: null\n",
      "      clip5: 0\n",
      "    return: []\n",
      "  variant_tag5:\n",
      "    return:\n",
      "    - sequence\n",
      "    filter:\n",
      "      clip5: 0\n",
      "      clip3: 0\n",
      "      mutation_nt_count: 0\n",
      "      mutation_op_count: 0\n",
      "  variant_tag3:\n",
      "    return:\n",
      "    - sequence\n",
      "    filter:\n",
      "      clip5: 0\n",
      "      clip3: 0\n",
      "      mutation_nt_count: 0\n",
      "      mutation_op_count: 0\n",
      "\n"
     ]
    }
   ],
   "source": [
    "print(targets.feature_parse_specs(\"yaml\"))"
   ]
  },
  {
   "cell_type": "markdown",
   "metadata": {},
   "source": [
    "## PacBio CCSs\n",
    "We will align and parse PacBio circular consensus sequences (CCSs).\n",
    "FASTQ files with these CCSs along with associated report files were generated from the PacBio subreads `*.bam` file using the PacBio `ccs` program, version 4.0.0, (see [here](https://github.com/PacificBiosciences/ccs) for details on `ccs`) using a command like the following:\n",
    "\n",
    "    ccs \\\n",
    "        --min-length 50 \\\n",
    "        --max-length 5000 \\\n",
    "        --min-passes 3 \\\n",
    "        --min-rq 0.999 \\\n",
    "        --report-file recA_lib-1_report.txt \\\n",
    "        --num-threads 16 \\\n",
    "        recA_lib-1_subreads.bam \\\n",
    "        recA_lib-1_ccs.fastq\n",
    "   \n",
    "Note that to make this example fast, we have extracted just a few hundred CCSs from the $>10^5$ typically produced in a single PacBio run.\n",
    "\n",
    "Here is a data frame with the names of the FASTQ files and reports generated by the PacBio `ccs` program:"
   ]
  },
  {
   "cell_type": "code",
   "execution_count": 9,
   "metadata": {
    "execution": {
     "iopub.execute_input": "2023-05-26T00:17:48.170078Z",
     "iopub.status.busy": "2023-05-26T00:17:48.169809Z",
     "iopub.status.idle": "2023-05-26T00:17:48.182098Z",
     "shell.execute_reply": "2023-05-26T00:17:48.181383Z",
     "shell.execute_reply.started": "2023-05-26T00:17:48.170057Z"
    }
   },
   "outputs": [
    {
     "data": {
      "text/html": [
       "<div>\n",
       "<style scoped>\n",
       "    .dataframe tbody tr th:only-of-type {\n",
       "        vertical-align: middle;\n",
       "    }\n",
       "\n",
       "    .dataframe tbody tr th {\n",
       "        vertical-align: top;\n",
       "    }\n",
       "\n",
       "    .dataframe thead th {\n",
       "        text-align: right;\n",
       "    }\n",
       "</style>\n",
       "<table border=\"1\" class=\"dataframe\">\n",
       "  <thead>\n",
       "    <tr style=\"text-align: right;\">\n",
       "      <th></th>\n",
       "      <th>name</th>\n",
       "      <th>library</th>\n",
       "      <th>report</th>\n",
       "      <th>fastq</th>\n",
       "    </tr>\n",
       "  </thead>\n",
       "  <tbody>\n",
       "    <tr>\n",
       "      <th>0</th>\n",
       "      <td>recA_lib-1</td>\n",
       "      <td>lib-1</td>\n",
       "      <td>input_files/recA_lib-1_report.txt</td>\n",
       "      <td>input_files/recA_lib-1_ccs.fastq</td>\n",
       "    </tr>\n",
       "    <tr>\n",
       "      <th>1</th>\n",
       "      <td>recA_lib-2</td>\n",
       "      <td>lib-2</td>\n",
       "      <td>input_files/recA_lib-2_report.txt</td>\n",
       "      <td>input_files/recA_lib-2_ccs.fastq</td>\n",
       "    </tr>\n",
       "  </tbody>\n",
       "</table>\n",
       "</div>"
      ],
      "text/plain": [
       "         name library                             report   \n",
       "0  recA_lib-1   lib-1  input_files/recA_lib-1_report.txt  \\\n",
       "1  recA_lib-2   lib-2  input_files/recA_lib-2_report.txt   \n",
       "\n",
       "                              fastq  \n",
       "0  input_files/recA_lib-1_ccs.fastq  \n",
       "1  input_files/recA_lib-2_ccs.fastq  "
      ]
     },
     "execution_count": 9,
     "metadata": {},
     "output_type": "execute_result"
    }
   ],
   "source": [
    "run_names = [\"recA_lib-1\", \"recA_lib-2\"]\n",
    "libraries = [\"lib-1\", \"lib-2\"]\n",
    "ccs_dir = \"input_files\"\n",
    "\n",
    "pacbio_runs = pd.DataFrame(\n",
    "    {\n",
    "        \"name\": run_names,\n",
    "        \"library\": libraries,\n",
    "        \"report\": [f\"{ccs_dir}/{name}_report.txt\" for name in run_names],\n",
    "        \"fastq\": [f\"{ccs_dir}/{name}_ccs.fastq\" for name in run_names],\n",
    "    }\n",
    ")\n",
    "\n",
    "pacbio_runs"
   ]
  },
  {
   "cell_type": "markdown",
   "metadata": {},
   "source": [
    "We create a [alignparse.ccs.Summaries](https://jbloomlab.github.io/alignparse/alignparse.ccs.html#alignparse.ccs.Summaries) object for these CCSs:"
   ]
  },
  {
   "cell_type": "code",
   "execution_count": 10,
   "metadata": {
    "execution": {
     "iopub.execute_input": "2023-05-26T00:17:48.183203Z",
     "iopub.status.busy": "2023-05-26T00:17:48.182981Z",
     "iopub.status.idle": "2023-05-26T00:17:48.188504Z",
     "shell.execute_reply": "2023-05-26T00:17:48.187843Z",
     "shell.execute_reply.started": "2023-05-26T00:17:48.183184Z"
    }
   },
   "outputs": [
    {
     "data": {
      "text/plain": [
       "0    recA_lib-1\n",
       "1    recA_lib-2\n",
       "Name: name, dtype: object"
      ]
     },
     "execution_count": 10,
     "metadata": {},
     "output_type": "execute_result"
    }
   ],
   "source": [
    "pacbio_runs[\"name\"]"
   ]
  },
  {
   "cell_type": "code",
   "execution_count": 11,
   "metadata": {
    "execution": {
     "iopub.execute_input": "2023-05-26T00:17:48.189665Z",
     "iopub.status.busy": "2023-05-26T00:17:48.189346Z",
     "iopub.status.idle": "2023-05-26T00:17:48.194010Z",
     "shell.execute_reply": "2023-05-26T00:17:48.193349Z",
     "shell.execute_reply.started": "2023-05-26T00:17:48.189646Z"
    }
   },
   "outputs": [
    {
     "data": {
      "text/plain": [
       "('recA_lib-1', 'recA_lib-2')"
      ]
     },
     "execution_count": 11,
     "metadata": {},
     "output_type": "execute_result"
    }
   ],
   "source": [
    "tuple(pacbio_runs[\"name\"])"
   ]
  },
  {
   "cell_type": "code",
   "execution_count": 12,
   "metadata": {
    "execution": {
     "iopub.execute_input": "2023-05-26T00:17:48.195048Z",
     "iopub.status.busy": "2023-05-26T00:17:48.194736Z",
     "iopub.status.idle": "2023-05-26T00:17:49.111139Z",
     "shell.execute_reply": "2023-05-26T00:17:49.109996Z",
     "shell.execute_reply.started": "2023-05-26T00:17:48.195028Z"
    }
   },
   "outputs": [],
   "source": [
    "ccs_summaries = alignparse.ccs.Summaries(pacbio_runs)"
   ]
  },
  {
   "cell_type": "markdown",
   "metadata": {},
   "source": [
    "(Note if you did not have the `ccs` reports, you could still do the steps above but would need to set `report_col=None` when creating the [Summaries](https://jbloomlab.github.io/alignparse/alignparse.ccs.html#alignparse.ccs.Summaries) object, and then you could not analyze ZMW stats as done below.)\n",
    "\n",
    "Plot how many ZMWs yielded CCSs:"
   ]
  },
  {
   "cell_type": "code",
   "execution_count": 13,
   "metadata": {
    "execution": {
     "iopub.execute_input": "2023-05-26T00:17:49.113260Z",
     "iopub.status.busy": "2023-05-26T00:17:49.112831Z",
     "iopub.status.idle": "2023-05-26T00:17:49.577124Z",
     "shell.execute_reply": "2023-05-26T00:17:49.576294Z",
     "shell.execute_reply.started": "2023-05-26T00:17:49.113225Z"
    }
   },
   "outputs": [],
   "source": [
    "# NBVAL_IGNORE_OUTPUT\n",
    "p = ccs_summaries.plot_zmw_stats()\n",
    "p = p + theme(panel_grid_major_x=element_blank())  # no vertical grid lines\n",
    "_ = p.draw()"
   ]
  },
  {
   "cell_type": "markdown",
   "metadata": {},
   "source": [
    "We can also get the ZMW stats as numerical values:"
   ]
  },
  {
   "cell_type": "code",
   "execution_count": 14,
   "metadata": {
    "execution": {
     "iopub.execute_input": "2023-05-26T00:17:49.578398Z",
     "iopub.status.busy": "2023-05-26T00:17:49.578100Z",
     "iopub.status.idle": "2023-05-26T00:17:49.613626Z",
     "shell.execute_reply": "2023-05-26T00:17:49.612870Z",
     "shell.execute_reply.started": "2023-05-26T00:17:49.578379Z"
    }
   },
   "outputs": [
    {
     "data": {
      "text/html": [
       "<div>\n",
       "<style scoped>\n",
       "    .dataframe tbody tr th:only-of-type {\n",
       "        vertical-align: middle;\n",
       "    }\n",
       "\n",
       "    .dataframe tbody tr th {\n",
       "        vertical-align: top;\n",
       "    }\n",
       "\n",
       "    .dataframe thead th {\n",
       "        text-align: right;\n",
       "    }\n",
       "</style>\n",
       "<table border=\"1\" class=\"dataframe\">\n",
       "  <thead>\n",
       "    <tr style=\"text-align: right;\">\n",
       "      <th></th>\n",
       "      <th>name</th>\n",
       "      <th>status</th>\n",
       "      <th>number</th>\n",
       "      <th>fraction</th>\n",
       "    </tr>\n",
       "  </thead>\n",
       "  <tbody>\n",
       "    <tr>\n",
       "      <th>0</th>\n",
       "      <td>recA_lib-1</td>\n",
       "      <td>Success -- CCS generated</td>\n",
       "      <td>139</td>\n",
       "      <td>0.837349</td>\n",
       "    </tr>\n",
       "    <tr>\n",
       "      <th>1</th>\n",
       "      <td>recA_lib-1</td>\n",
       "      <td>Failed -- Lacking full passes</td>\n",
       "      <td>19</td>\n",
       "      <td>0.114458</td>\n",
       "    </tr>\n",
       "    <tr>\n",
       "      <th>2</th>\n",
       "      <td>recA_lib-1</td>\n",
       "      <td>Failed -- Draft generation error</td>\n",
       "      <td>3</td>\n",
       "      <td>0.018072</td>\n",
       "    </tr>\n",
       "    <tr>\n",
       "      <th>3</th>\n",
       "      <td>recA_lib-1</td>\n",
       "      <td>Failed -- Min coverage violation</td>\n",
       "      <td>1</td>\n",
       "      <td>0.006024</td>\n",
       "    </tr>\n",
       "    <tr>\n",
       "      <th>4</th>\n",
       "      <td>recA_lib-1</td>\n",
       "      <td>Failed -- CCS below minimum RQ</td>\n",
       "      <td>2</td>\n",
       "      <td>0.012048</td>\n",
       "    </tr>\n",
       "    <tr>\n",
       "      <th>5</th>\n",
       "      <td>recA_lib-1</td>\n",
       "      <td>Failed -- Other reason</td>\n",
       "      <td>2</td>\n",
       "      <td>0.012048</td>\n",
       "    </tr>\n",
       "    <tr>\n",
       "      <th>6</th>\n",
       "      <td>recA_lib-2</td>\n",
       "      <td>Success -- CCS generated</td>\n",
       "      <td>124</td>\n",
       "      <td>0.794872</td>\n",
       "    </tr>\n",
       "    <tr>\n",
       "      <th>7</th>\n",
       "      <td>recA_lib-2</td>\n",
       "      <td>Failed -- Lacking full passes</td>\n",
       "      <td>22</td>\n",
       "      <td>0.141026</td>\n",
       "    </tr>\n",
       "    <tr>\n",
       "      <th>8</th>\n",
       "      <td>recA_lib-2</td>\n",
       "      <td>Failed -- Draft generation error</td>\n",
       "      <td>4</td>\n",
       "      <td>0.025641</td>\n",
       "    </tr>\n",
       "    <tr>\n",
       "      <th>9</th>\n",
       "      <td>recA_lib-2</td>\n",
       "      <td>Failed -- Min coverage violation</td>\n",
       "      <td>2</td>\n",
       "      <td>0.012821</td>\n",
       "    </tr>\n",
       "    <tr>\n",
       "      <th>10</th>\n",
       "      <td>recA_lib-2</td>\n",
       "      <td>Failed -- CCS below minimum RQ</td>\n",
       "      <td>2</td>\n",
       "      <td>0.012821</td>\n",
       "    </tr>\n",
       "    <tr>\n",
       "      <th>11</th>\n",
       "      <td>recA_lib-2</td>\n",
       "      <td>Failed -- Other reason</td>\n",
       "      <td>2</td>\n",
       "      <td>0.012821</td>\n",
       "    </tr>\n",
       "  </tbody>\n",
       "</table>\n",
       "</div>"
      ],
      "text/plain": [
       "          name                            status  number  fraction\n",
       "0   recA_lib-1          Success -- CCS generated     139  0.837349\n",
       "1   recA_lib-1     Failed -- Lacking full passes      19  0.114458\n",
       "2   recA_lib-1  Failed -- Draft generation error       3  0.018072\n",
       "3   recA_lib-1  Failed -- Min coverage violation       1  0.006024\n",
       "4   recA_lib-1    Failed -- CCS below minimum RQ       2  0.012048\n",
       "5   recA_lib-1            Failed -- Other reason       2  0.012048\n",
       "6   recA_lib-2          Success -- CCS generated     124  0.794872\n",
       "7   recA_lib-2     Failed -- Lacking full passes      22  0.141026\n",
       "8   recA_lib-2  Failed -- Draft generation error       4  0.025641\n",
       "9   recA_lib-2  Failed -- Min coverage violation       2  0.012821\n",
       "10  recA_lib-2    Failed -- CCS below minimum RQ       2  0.012821\n",
       "11  recA_lib-2            Failed -- Other reason       2  0.012821"
      ]
     },
     "execution_count": 14,
     "metadata": {},
     "output_type": "execute_result"
    }
   ],
   "source": [
    "ccs_summaries.zmw_stats()"
   ]
  },
  {
   "cell_type": "markdown",
   "metadata": {},
   "source": [
    "Statistics on the CCSs (length, number of subread passes, quality):"
   ]
  },
  {
   "cell_type": "code",
   "execution_count": 15,
   "metadata": {
    "execution": {
     "iopub.execute_input": "2023-05-26T00:17:49.614843Z",
     "iopub.status.busy": "2023-05-26T00:17:49.614507Z",
     "iopub.status.idle": "2023-05-26T00:17:50.511755Z",
     "shell.execute_reply": "2023-05-26T00:17:50.510631Z",
     "shell.execute_reply.started": "2023-05-26T00:17:49.614824Z"
    }
   },
   "outputs": [],
   "source": [
    "# NBVAL_IGNORE_OUTPUT\n",
    "for stat in [\"length\", \"passes\", \"accuracy\"]:\n",
    "    if ccs_summaries.has_stat(stat):\n",
    "        p = ccs_summaries.plot_ccs_stats(stat)\n",
    "        p = p + theme(panel_grid_major_x=element_blank())  # no vertical grid lines\n",
    "        _ = p.draw()\n",
    "    else:\n",
    "        print(f\"No {stat} statistics available.\")"
   ]
  },
  {
   "cell_type": "markdown",
   "metadata": {},
   "source": [
    "We can also get these statistics numerically; for instance:"
   ]
  },
  {
   "cell_type": "code",
   "execution_count": 16,
   "metadata": {
    "execution": {
     "iopub.execute_input": "2023-05-26T00:17:50.513743Z",
     "iopub.status.busy": "2023-05-26T00:17:50.513244Z",
     "iopub.status.idle": "2023-05-26T00:17:50.528388Z",
     "shell.execute_reply": "2023-05-26T00:17:50.527761Z",
     "shell.execute_reply.started": "2023-05-26T00:17:50.513704Z"
    }
   },
   "outputs": [
    {
     "data": {
      "text/html": [
       "<div>\n",
       "<style scoped>\n",
       "    .dataframe tbody tr th:only-of-type {\n",
       "        vertical-align: middle;\n",
       "    }\n",
       "\n",
       "    .dataframe tbody tr th {\n",
       "        vertical-align: top;\n",
       "    }\n",
       "\n",
       "    .dataframe thead th {\n",
       "        text-align: right;\n",
       "    }\n",
       "</style>\n",
       "<table border=\"1\" class=\"dataframe\">\n",
       "  <thead>\n",
       "    <tr style=\"text-align: right;\">\n",
       "      <th></th>\n",
       "      <th>name</th>\n",
       "      <th>length</th>\n",
       "    </tr>\n",
       "  </thead>\n",
       "  <tbody>\n",
       "    <tr>\n",
       "      <th>0</th>\n",
       "      <td>recA_lib-1</td>\n",
       "      <td>1325</td>\n",
       "    </tr>\n",
       "    <tr>\n",
       "      <th>1</th>\n",
       "      <td>recA_lib-1</td>\n",
       "      <td>1340</td>\n",
       "    </tr>\n",
       "    <tr>\n",
       "      <th>2</th>\n",
       "      <td>recA_lib-1</td>\n",
       "      <td>1339</td>\n",
       "    </tr>\n",
       "    <tr>\n",
       "      <th>3</th>\n",
       "      <td>recA_lib-1</td>\n",
       "      <td>985</td>\n",
       "    </tr>\n",
       "    <tr>\n",
       "      <th>4</th>\n",
       "      <td>recA_lib-1</td>\n",
       "      <td>1196</td>\n",
       "    </tr>\n",
       "  </tbody>\n",
       "</table>\n",
       "</div>"
      ],
      "text/plain": [
       "         name  length\n",
       "0  recA_lib-1    1325\n",
       "1  recA_lib-1    1340\n",
       "2  recA_lib-1    1339\n",
       "3  recA_lib-1     985\n",
       "4  recA_lib-1    1196"
      ]
     },
     "execution_count": 16,
     "metadata": {},
     "output_type": "execute_result"
    }
   ],
   "source": [
    "ccs_summaries.ccs_stats(\"length\").head(n=5)"
   ]
  },
  {
   "cell_type": "markdown",
   "metadata": {},
   "source": [
    "## Align and parse CCSs\n",
    "Now we align the CCSs using our [Targets](https://jbloomlab.github.io/alignparse/alignparse.targets.html#alignparse.targets.Targets) object, and parse the features from queries that align sufficiently well.\n",
    "\n",
    "First, we create an [alignparse.minimap2.Mapper](https://jbloomlab.github.io/alignparse/alignparse.minimap2.html#alignparse.minimap2.Mapper) object to run [minimap2](https://github.com/lh3/minimap2), which is used for the alignments.\n",
    "We use [minimap2](https://github.com/lh3/minimap2) options that are tailored for codon-level deep mutational scanning experiments like this one (these are specified by [alignparse.minimap2.OPTIONS_CODON_DMS](https://jbloomlab.github.io/alignparse/alignparse.minimap2.html#alignparse.minimap2.OPTIONS_CODON_DMS)):"
   ]
  },
  {
   "cell_type": "code",
   "execution_count": 17,
   "metadata": {
    "execution": {
     "iopub.execute_input": "2023-05-26T00:17:50.529454Z",
     "iopub.status.busy": "2023-05-26T00:17:50.529264Z",
     "iopub.status.idle": "2023-05-26T00:17:50.539516Z",
     "shell.execute_reply": "2023-05-26T00:17:50.538501Z",
     "shell.execute_reply.started": "2023-05-26T00:17:50.529436Z"
    }
   },
   "outputs": [
    {
     "name": "stdout",
     "output_type": "stream",
     "text": [
      "Using `minimap2` 2.17-r941 with these options:\n",
      "-A2 -B4 -O12 -E2 --end-bonus=13 --secondary=no --cs\n"
     ]
    }
   ],
   "source": [
    "mapper = alignparse.minimap2.Mapper(alignparse.minimap2.OPTIONS_CODON_DMS)\n",
    "\n",
    "print(\n",
    "    f\"Using `minimap2` {mapper.version} with these options:\\n\"\n",
    "    + \" \".join(mapper.options)\n",
    ")"
   ]
  },
  {
   "cell_type": "markdown",
   "metadata": {},
   "source": [
    "We now use [Targets.align_and_parse](https://jbloomlab.github.io/alignparse/alignparse.targets.html#alignparse.targets.Targets.align_and_parse) to align and parse our FASTQ files of CCSs.\n",
    "(Note that if needed, you can also perform each of these steps separately for each FASTQ file by running [Targets.align](https://jbloomlab.github.io/alignparse/alignparse.targets.html#alignparse.targets.Targets.align) and [Targets.parse_alignments](https://jbloomlab.github.io/alignparse/alignparse.targets.html#alignparse.targets.Targets.parse_alignment) separately. An example of this is in the [Lassa virus glycoprotein](https://jbloomlab.github.io/alignparse/lasv_pilot.html) example notebook)\n",
    "\n",
    "First, we define a directory to place the created files:"
   ]
  },
  {
   "cell_type": "code",
   "execution_count": 18,
   "metadata": {
    "execution": {
     "iopub.execute_input": "2023-05-26T00:17:50.541439Z",
     "iopub.status.busy": "2023-05-26T00:17:50.540909Z",
     "iopub.status.idle": "2023-05-26T00:17:50.546115Z",
     "shell.execute_reply": "2023-05-26T00:17:50.545163Z",
     "shell.execute_reply.started": "2023-05-26T00:17:50.541391Z"
    }
   },
   "outputs": [],
   "source": [
    "align_and_parse_outdir = os.path.join(outdir, \"RecA_align_and_parse\")"
   ]
  },
  {
   "cell_type": "markdown",
   "metadata": {},
   "source": [
    "Now we run [Targets.align_and_parse](https://jbloomlab.github.io/alignparse/alignparse.targets.html#alignparse.targets.Targets.align_and_parse) on all the CCS sets in the data frame `pacbio_runs`, which we set up above to specify information on each PacBio run.\n",
    "The `name_col` gives the column in the data frame giving the name of each run, the `queryfile_col` gives the column with the FASTQ file for that run, and `group_cols` specifies any columns showing how to group runs when aggregating results (here we aggregate results by library):"
   ]
  },
  {
   "cell_type": "code",
   "execution_count": 19,
   "metadata": {
    "execution": {
     "iopub.execute_input": "2023-05-26T00:17:50.547867Z",
     "iopub.status.busy": "2023-05-26T00:17:50.547429Z",
     "iopub.status.idle": "2023-05-26T00:17:51.784069Z",
     "shell.execute_reply": "2023-05-26T00:17:51.782800Z",
     "shell.execute_reply.started": "2023-05-26T00:17:50.547815Z"
    }
   },
   "outputs": [],
   "source": [
    "readstats, aligned, filtered = targets.align_and_parse(\n",
    "    df=pacbio_runs,\n",
    "    mapper=mapper,\n",
    "    outdir=align_and_parse_outdir,\n",
    "    name_col=\"name\",\n",
    "    queryfile_col=\"fastq\",\n",
    "    group_cols=[\"library\"],\n",
    "    overwrite=True,  # overwrite any existing output\n",
    "    ncpus=-1,  # use all available CPUs\n",
    ")"
   ]
  },
  {
   "cell_type": "markdown",
   "metadata": {},
   "source": [
    "The return value from running the function above is a tuple of three elements: `readstats`, `aligned`, and `filtered`.\n",
    "We go through these one by one.\n",
    "\n",
    "The `readstats` variable is a data frame that gives summary statistics for each run:"
   ]
  },
  {
   "cell_type": "code",
   "execution_count": 20,
   "metadata": {
    "execution": {
     "iopub.execute_input": "2023-05-26T00:17:51.786666Z",
     "iopub.status.busy": "2023-05-26T00:17:51.785887Z",
     "iopub.status.idle": "2023-05-26T00:17:51.796096Z",
     "shell.execute_reply": "2023-05-26T00:17:51.795514Z",
     "shell.execute_reply.started": "2023-05-26T00:17:51.786633Z"
    }
   },
   "outputs": [
    {
     "data": {
      "text/html": [
       "<div>\n",
       "<style scoped>\n",
       "    .dataframe tbody tr th:only-of-type {\n",
       "        vertical-align: middle;\n",
       "    }\n",
       "\n",
       "    .dataframe tbody tr th {\n",
       "        vertical-align: top;\n",
       "    }\n",
       "\n",
       "    .dataframe thead th {\n",
       "        text-align: right;\n",
       "    }\n",
       "</style>\n",
       "<table border=\"1\" class=\"dataframe\">\n",
       "  <thead>\n",
       "    <tr style=\"text-align: right;\">\n",
       "      <th></th>\n",
       "      <th>library</th>\n",
       "      <th>name</th>\n",
       "      <th>category</th>\n",
       "      <th>count</th>\n",
       "    </tr>\n",
       "  </thead>\n",
       "  <tbody>\n",
       "    <tr>\n",
       "      <th>0</th>\n",
       "      <td>lib-1</td>\n",
       "      <td>recA_lib-1</td>\n",
       "      <td>aligned RecA_PacBio_amplicon</td>\n",
       "      <td>123</td>\n",
       "    </tr>\n",
       "    <tr>\n",
       "      <th>1</th>\n",
       "      <td>lib-1</td>\n",
       "      <td>recA_lib-1</td>\n",
       "      <td>filtered RecA_PacBio_amplicon</td>\n",
       "      <td>16</td>\n",
       "    </tr>\n",
       "    <tr>\n",
       "      <th>2</th>\n",
       "      <td>lib-1</td>\n",
       "      <td>recA_lib-1</td>\n",
       "      <td>unmapped</td>\n",
       "      <td>0</td>\n",
       "    </tr>\n",
       "    <tr>\n",
       "      <th>3</th>\n",
       "      <td>lib-2</td>\n",
       "      <td>recA_lib-2</td>\n",
       "      <td>aligned RecA_PacBio_amplicon</td>\n",
       "      <td>112</td>\n",
       "    </tr>\n",
       "    <tr>\n",
       "      <th>4</th>\n",
       "      <td>lib-2</td>\n",
       "      <td>recA_lib-2</td>\n",
       "      <td>filtered RecA_PacBio_amplicon</td>\n",
       "      <td>12</td>\n",
       "    </tr>\n",
       "    <tr>\n",
       "      <th>5</th>\n",
       "      <td>lib-2</td>\n",
       "      <td>recA_lib-2</td>\n",
       "      <td>unmapped</td>\n",
       "      <td>0</td>\n",
       "    </tr>\n",
       "  </tbody>\n",
       "</table>\n",
       "</div>"
      ],
      "text/plain": [
       "  library        name                       category  count\n",
       "0   lib-1  recA_lib-1   aligned RecA_PacBio_amplicon    123\n",
       "1   lib-1  recA_lib-1  filtered RecA_PacBio_amplicon     16\n",
       "2   lib-1  recA_lib-1                       unmapped      0\n",
       "3   lib-2  recA_lib-2   aligned RecA_PacBio_amplicon    112\n",
       "4   lib-2  recA_lib-2  filtered RecA_PacBio_amplicon     12\n",
       "5   lib-2  recA_lib-2                       unmapped      0"
      ]
     },
     "execution_count": 20,
     "metadata": {},
     "output_type": "execute_result"
    }
   ],
   "source": [
    "readstats"
   ]
  },
  {
   "cell_type": "markdown",
   "metadata": {},
   "source": [
    "Above we see that all reads mapped to our single target (`RecA_PacBio_amplicon`), and that most could be fully aligned and parsed given our `feature_parse_specs`, but that some were filtered for not passing these specs.\n",
    "\n",
    "We can plot `readstats` for easy viewing:"
   ]
  },
  {
   "cell_type": "code",
   "execution_count": 21,
   "metadata": {
    "execution": {
     "iopub.execute_input": "2023-05-26T00:17:51.797219Z",
     "iopub.status.busy": "2023-05-26T00:17:51.796935Z",
     "iopub.status.idle": "2023-05-26T00:17:51.981263Z",
     "shell.execute_reply": "2023-05-26T00:17:51.980546Z",
     "shell.execute_reply.started": "2023-05-26T00:17:51.797202Z"
    }
   },
   "outputs": [],
   "source": [
    "# NBVAL_IGNORE_OUTPUT\n",
    "p = (\n",
    "    ggplot(readstats, aes(\"category\", \"count\"))\n",
    "    + geom_bar(stat=\"identity\")\n",
    "    + facet_wrap(\"~ name\", nrow=1)\n",
    "    + theme(\n",
    "        axis_text_x=element_text(angle=90),\n",
    "        figure_size=(1.5 * len(pacbio_runs), 2.5),\n",
    "        panel_grid_major_x=element_blank(),  # no vertical grid lines\n",
    "    )\n",
    ")\n",
    "_ = p.draw()"
   ]
  },
  {
   "cell_type": "markdown",
   "metadata": {},
   "source": [
    "The `aligned` variable is a dict that is keyed by each target name, and then gives a data frame with information on all queries (CCSs) that were successfully aligned and parsed:"
   ]
  },
  {
   "cell_type": "code",
   "execution_count": 22,
   "metadata": {
    "execution": {
     "iopub.execute_input": "2023-05-26T00:17:51.982393Z",
     "iopub.status.busy": "2023-05-26T00:17:51.982117Z",
     "iopub.status.idle": "2023-05-26T00:17:51.996546Z",
     "shell.execute_reply": "2023-05-26T00:17:51.996041Z",
     "shell.execute_reply.started": "2023-05-26T00:17:51.982375Z"
    }
   },
   "outputs": [
    {
     "name": "stdout",
     "output_type": "stream",
     "text": [
      "First few lines of parsed alignments for RecA_PacBio_amplicon\n"
     ]
    },
    {
     "data": {
      "text/html": [
       "<div>\n",
       "<style scoped>\n",
       "    .dataframe tbody tr th:only-of-type {\n",
       "        vertical-align: middle;\n",
       "    }\n",
       "\n",
       "    .dataframe tbody tr th {\n",
       "        vertical-align: top;\n",
       "    }\n",
       "\n",
       "    .dataframe thead th {\n",
       "        text-align: right;\n",
       "    }\n",
       "</style>\n",
       "<table border=\"1\" class=\"dataframe\">\n",
       "  <thead>\n",
       "    <tr style=\"text-align: right;\">\n",
       "      <th></th>\n",
       "      <th>library</th>\n",
       "      <th>name</th>\n",
       "      <th>query_name</th>\n",
       "      <th>query_clip5</th>\n",
       "      <th>query_clip3</th>\n",
       "      <th>gene_mutations</th>\n",
       "      <th>gene_accuracy</th>\n",
       "      <th>barcode_sequence</th>\n",
       "      <th>barcode_accuracy</th>\n",
       "      <th>variant_tag5_sequence</th>\n",
       "      <th>variant_tag3_sequence</th>\n",
       "    </tr>\n",
       "  </thead>\n",
       "  <tbody>\n",
       "    <tr>\n",
       "      <th>0</th>\n",
       "      <td>lib-1</td>\n",
       "      <td>recA_lib-1</td>\n",
       "      <td>m54228_180801_171631/4391577/ccs</td>\n",
       "      <td>1</td>\n",
       "      <td>0</td>\n",
       "      <td>C100A T102A G658C C659T del840to840</td>\n",
       "      <td>0.999455</td>\n",
       "      <td>AAGATACACTCGAAATCT</td>\n",
       "      <td>1.0</td>\n",
       "      <td>G</td>\n",
       "      <td>C</td>\n",
       "    </tr>\n",
       "    <tr>\n",
       "      <th>1</th>\n",
       "      <td>lib-1</td>\n",
       "      <td>recA_lib-1</td>\n",
       "      <td>m54228_180801_171631/4915465/ccs</td>\n",
       "      <td>0</td>\n",
       "      <td>0</td>\n",
       "      <td>C142G G144T T329A A738G A946T C947A</td>\n",
       "      <td>1.000000</td>\n",
       "      <td>AAATATCATCGCGGCCAG</td>\n",
       "      <td>1.0</td>\n",
       "      <td>T</td>\n",
       "      <td>T</td>\n",
       "    </tr>\n",
       "    <tr>\n",
       "      <th>2</th>\n",
       "      <td>lib-1</td>\n",
       "      <td>recA_lib-1</td>\n",
       "      <td>m54228_180801_171631/4981392/ccs</td>\n",
       "      <td>0</td>\n",
       "      <td>0</td>\n",
       "      <td>C142G G144T T329A A738G A946T C947A</td>\n",
       "      <td>1.000000</td>\n",
       "      <td>AAATATCATCGCGGCCAG</td>\n",
       "      <td>1.0</td>\n",
       "      <td>G</td>\n",
       "      <td>C</td>\n",
       "    </tr>\n",
       "    <tr>\n",
       "      <th>3</th>\n",
       "      <td>lib-1</td>\n",
       "      <td>recA_lib-1</td>\n",
       "      <td>m54228_180801_171631/6029553/ccs</td>\n",
       "      <td>0</td>\n",
       "      <td>0</td>\n",
       "      <td>T83A G84A A106T T107A G108A ins693G G862T C863...</td>\n",
       "      <td>0.999940</td>\n",
       "      <td>CTAATAGTAGTTTTCCAG</td>\n",
       "      <td>1.0</td>\n",
       "      <td>G</td>\n",
       "      <td>C</td>\n",
       "    </tr>\n",
       "    <tr>\n",
       "      <th>4</th>\n",
       "      <td>lib-1</td>\n",
       "      <td>recA_lib-1</td>\n",
       "      <td>m54228_180801_171631/6488565/ccs</td>\n",
       "      <td>0</td>\n",
       "      <td>0</td>\n",
       "      <td>A254C G255T A466T T467G C468T C940G G942A</td>\n",
       "      <td>0.999967</td>\n",
       "      <td>TATTTATACCCATGAGTG</td>\n",
       "      <td>1.0</td>\n",
       "      <td>A</td>\n",
       "      <td>T</td>\n",
       "    </tr>\n",
       "  </tbody>\n",
       "</table>\n",
       "</div>"
      ],
      "text/plain": [
       "  library        name                        query_name  query_clip5   \n",
       "0   lib-1  recA_lib-1  m54228_180801_171631/4391577/ccs            1  \\\n",
       "1   lib-1  recA_lib-1  m54228_180801_171631/4915465/ccs            0   \n",
       "2   lib-1  recA_lib-1  m54228_180801_171631/4981392/ccs            0   \n",
       "3   lib-1  recA_lib-1  m54228_180801_171631/6029553/ccs            0   \n",
       "4   lib-1  recA_lib-1  m54228_180801_171631/6488565/ccs            0   \n",
       "\n",
       "   query_clip3                                     gene_mutations   \n",
       "0            0                C100A T102A G658C C659T del840to840  \\\n",
       "1            0                C142G G144T T329A A738G A946T C947A   \n",
       "2            0                C142G G144T T329A A738G A946T C947A   \n",
       "3            0  T83A G84A A106T T107A G108A ins693G G862T C863...   \n",
       "4            0          A254C G255T A466T T467G C468T C940G G942A   \n",
       "\n",
       "   gene_accuracy    barcode_sequence  barcode_accuracy variant_tag5_sequence   \n",
       "0       0.999455  AAGATACACTCGAAATCT               1.0                     G  \\\n",
       "1       1.000000  AAATATCATCGCGGCCAG               1.0                     T   \n",
       "2       1.000000  AAATATCATCGCGGCCAG               1.0                     G   \n",
       "3       0.999940  CTAATAGTAGTTTTCCAG               1.0                     G   \n",
       "4       0.999967  TATTTATACCCATGAGTG               1.0                     A   \n",
       "\n",
       "  variant_tag3_sequence  \n",
       "0                     C  \n",
       "1                     T  \n",
       "2                     C  \n",
       "3                     C  \n",
       "4                     T  "
      ]
     },
     "metadata": {},
     "output_type": "display_data"
    }
   ],
   "source": [
    "for target in targets.target_names:\n",
    "    print(f\"First few lines of parsed alignments for {target}\")\n",
    "    display(aligned[target].head())"
   ]
  },
  {
   "cell_type": "markdown",
   "metadata": {},
   "source": [
    "Since we have just one target, we get the data frame in `aligned` for that single target into a new variable (`aligned_df`) and save it for analysis in the next subsection.\n",
    "We also extract just the columns of interest from the data frame, and rename `barcode_sequence` to the shorter name of `barcode`.\n",
    "Also, since real analyses of the barcode typically involve Illumina sequencing it in the reverse direction, we make this new `barcode` column the **reverse complement** of `barcode_sequence`:"
   ]
  },
  {
   "cell_type": "code",
   "execution_count": 23,
   "metadata": {
    "execution": {
     "iopub.execute_input": "2023-05-26T00:17:51.997528Z",
     "iopub.status.busy": "2023-05-26T00:17:51.997283Z",
     "iopub.status.idle": "2023-05-26T00:17:52.009003Z",
     "shell.execute_reply": "2023-05-26T00:17:52.008441Z",
     "shell.execute_reply.started": "2023-05-26T00:17:51.997509Z"
    }
   },
   "outputs": [
    {
     "data": {
      "text/html": [
       "<div>\n",
       "<style scoped>\n",
       "    .dataframe tbody tr th:only-of-type {\n",
       "        vertical-align: middle;\n",
       "    }\n",
       "\n",
       "    .dataframe tbody tr th {\n",
       "        vertical-align: top;\n",
       "    }\n",
       "\n",
       "    .dataframe thead th {\n",
       "        text-align: right;\n",
       "    }\n",
       "</style>\n",
       "<table border=\"1\" class=\"dataframe\">\n",
       "  <thead>\n",
       "    <tr style=\"text-align: right;\">\n",
       "      <th></th>\n",
       "      <th>library</th>\n",
       "      <th>name</th>\n",
       "      <th>query_name</th>\n",
       "      <th>barcode</th>\n",
       "      <th>gene_mutations</th>\n",
       "      <th>barcode_accuracy</th>\n",
       "      <th>gene_accuracy</th>\n",
       "    </tr>\n",
       "  </thead>\n",
       "  <tbody>\n",
       "    <tr>\n",
       "      <th>0</th>\n",
       "      <td>lib-1</td>\n",
       "      <td>recA_lib-1</td>\n",
       "      <td>m54228_180801_171631/4391577/ccs</td>\n",
       "      <td>AGATTTCGAGTGTATCTT</td>\n",
       "      <td>C100A T102A G658C C659T del840to840</td>\n",
       "      <td>1.0</td>\n",
       "      <td>0.999455</td>\n",
       "    </tr>\n",
       "    <tr>\n",
       "      <th>1</th>\n",
       "      <td>lib-1</td>\n",
       "      <td>recA_lib-1</td>\n",
       "      <td>m54228_180801_171631/4915465/ccs</td>\n",
       "      <td>CTGGCCGCGATGATATTT</td>\n",
       "      <td>C142G G144T T329A A738G A946T C947A</td>\n",
       "      <td>1.0</td>\n",
       "      <td>1.000000</td>\n",
       "    </tr>\n",
       "    <tr>\n",
       "      <th>2</th>\n",
       "      <td>lib-1</td>\n",
       "      <td>recA_lib-1</td>\n",
       "      <td>m54228_180801_171631/4981392/ccs</td>\n",
       "      <td>CTGGCCGCGATGATATTT</td>\n",
       "      <td>C142G G144T T329A A738G A946T C947A</td>\n",
       "      <td>1.0</td>\n",
       "      <td>1.000000</td>\n",
       "    </tr>\n",
       "    <tr>\n",
       "      <th>3</th>\n",
       "      <td>lib-1</td>\n",
       "      <td>recA_lib-1</td>\n",
       "      <td>m54228_180801_171631/6029553/ccs</td>\n",
       "      <td>CTGGAAAACTACTATTAG</td>\n",
       "      <td>T83A G84A A106T T107A G108A ins693G G862T C863...</td>\n",
       "      <td>1.0</td>\n",
       "      <td>0.999940</td>\n",
       "    </tr>\n",
       "    <tr>\n",
       "      <th>4</th>\n",
       "      <td>lib-1</td>\n",
       "      <td>recA_lib-1</td>\n",
       "      <td>m54228_180801_171631/6488565/ccs</td>\n",
       "      <td>CACTCATGGGTATAAATA</td>\n",
       "      <td>A254C G255T A466T T467G C468T C940G G942A</td>\n",
       "      <td>1.0</td>\n",
       "      <td>0.999967</td>\n",
       "    </tr>\n",
       "  </tbody>\n",
       "</table>\n",
       "</div>"
      ],
      "text/plain": [
       "  library        name                        query_name             barcode   \n",
       "0   lib-1  recA_lib-1  m54228_180801_171631/4391577/ccs  AGATTTCGAGTGTATCTT  \\\n",
       "1   lib-1  recA_lib-1  m54228_180801_171631/4915465/ccs  CTGGCCGCGATGATATTT   \n",
       "2   lib-1  recA_lib-1  m54228_180801_171631/4981392/ccs  CTGGCCGCGATGATATTT   \n",
       "3   lib-1  recA_lib-1  m54228_180801_171631/6029553/ccs  CTGGAAAACTACTATTAG   \n",
       "4   lib-1  recA_lib-1  m54228_180801_171631/6488565/ccs  CACTCATGGGTATAAATA   \n",
       "\n",
       "                                      gene_mutations  barcode_accuracy   \n",
       "0                C100A T102A G658C C659T del840to840               1.0  \\\n",
       "1                C142G G144T T329A A738G A946T C947A               1.0   \n",
       "2                C142G G144T T329A A738G A946T C947A               1.0   \n",
       "3  T83A G84A A106T T107A G108A ins693G G862T C863...               1.0   \n",
       "4          A254C G255T A466T T467G C468T C940G G942A               1.0   \n",
       "\n",
       "   gene_accuracy  \n",
       "0       0.999455  \n",
       "1       1.000000  \n",
       "2       1.000000  \n",
       "3       0.999940  \n",
       "4       0.999967  "
      ]
     },
     "execution_count": 23,
     "metadata": {},
     "output_type": "execute_result"
    }
   ],
   "source": [
    "assert len(aligned) == 1, \"not just one target\"\n",
    "\n",
    "aligned_df = aligned[targets.target_names[0]].assign(\n",
    "    barcode=lambda x: x[\"barcode_sequence\"].map(dms_variants.utils.reverse_complement)\n",
    ")[\n",
    "    [\n",
    "        \"library\",\n",
    "        \"name\",\n",
    "        \"query_name\",\n",
    "        \"barcode\",\n",
    "        \"gene_mutations\",\n",
    "        \"barcode_accuracy\",\n",
    "        \"gene_accuracy\",\n",
    "    ]\n",
    "]\n",
    "\n",
    "aligned_df.head()"
   ]
  },
  {
   "cell_type": "markdown",
   "metadata": {},
   "source": [
    "Finally, the `filtered` variable gives information on why queries that aligned but were filtered (failed `feature_parse_specs`) were filtered.\n",
    "Like `aligned`, `filtered` is a dict keyed by target name with values being data frames giving the information:"
   ]
  },
  {
   "cell_type": "code",
   "execution_count": 24,
   "metadata": {
    "execution": {
     "iopub.execute_input": "2023-05-26T00:17:52.010260Z",
     "iopub.status.busy": "2023-05-26T00:17:52.009895Z",
     "iopub.status.idle": "2023-05-26T00:17:52.019456Z",
     "shell.execute_reply": "2023-05-26T00:17:52.018063Z",
     "shell.execute_reply.started": "2023-05-26T00:17:52.010225Z"
    }
   },
   "outputs": [
    {
     "name": "stdout",
     "output_type": "stream",
     "text": [
      "First few lines of filtering information for RecA_PacBio_amplicon\n"
     ]
    },
    {
     "data": {
      "text/html": [
       "<div>\n",
       "<style scoped>\n",
       "    .dataframe tbody tr th:only-of-type {\n",
       "        vertical-align: middle;\n",
       "    }\n",
       "\n",
       "    .dataframe tbody tr th {\n",
       "        vertical-align: top;\n",
       "    }\n",
       "\n",
       "    .dataframe thead th {\n",
       "        text-align: right;\n",
       "    }\n",
       "</style>\n",
       "<table border=\"1\" class=\"dataframe\">\n",
       "  <thead>\n",
       "    <tr style=\"text-align: right;\">\n",
       "      <th></th>\n",
       "      <th>library</th>\n",
       "      <th>name</th>\n",
       "      <th>query_name</th>\n",
       "      <th>filter_reason</th>\n",
       "    </tr>\n",
       "  </thead>\n",
       "  <tbody>\n",
       "    <tr>\n",
       "      <th>0</th>\n",
       "      <td>lib-1</td>\n",
       "      <td>recA_lib-1</td>\n",
       "      <td>m54228_180801_171631/4194459/ccs</td>\n",
       "      <td>spacer mutation_nt_count</td>\n",
       "    </tr>\n",
       "    <tr>\n",
       "      <th>1</th>\n",
       "      <td>lib-1</td>\n",
       "      <td>recA_lib-1</td>\n",
       "      <td>m54228_180801_171631/4325806/ccs</td>\n",
       "      <td>barcode mutation_nt_count</td>\n",
       "    </tr>\n",
       "    <tr>\n",
       "      <th>2</th>\n",
       "      <td>lib-1</td>\n",
       "      <td>recA_lib-1</td>\n",
       "      <td>m54228_180801_171631/4391313/ccs</td>\n",
       "      <td>termini3 mutation_nt_count</td>\n",
       "    </tr>\n",
       "    <tr>\n",
       "      <th>3</th>\n",
       "      <td>lib-1</td>\n",
       "      <td>recA_lib-1</td>\n",
       "      <td>m54228_180801_171631/4391375/ccs</td>\n",
       "      <td>gene clip3</td>\n",
       "    </tr>\n",
       "    <tr>\n",
       "      <th>4</th>\n",
       "      <td>lib-1</td>\n",
       "      <td>recA_lib-1</td>\n",
       "      <td>m54228_180801_171631/4391467/ccs</td>\n",
       "      <td>gene clip3</td>\n",
       "    </tr>\n",
       "  </tbody>\n",
       "</table>\n",
       "</div>"
      ],
      "text/plain": [
       "  library        name                        query_name   \n",
       "0   lib-1  recA_lib-1  m54228_180801_171631/4194459/ccs  \\\n",
       "1   lib-1  recA_lib-1  m54228_180801_171631/4325806/ccs   \n",
       "2   lib-1  recA_lib-1  m54228_180801_171631/4391313/ccs   \n",
       "3   lib-1  recA_lib-1  m54228_180801_171631/4391375/ccs   \n",
       "4   lib-1  recA_lib-1  m54228_180801_171631/4391467/ccs   \n",
       "\n",
       "                filter_reason  \n",
       "0    spacer mutation_nt_count  \n",
       "1   barcode mutation_nt_count  \n",
       "2  termini3 mutation_nt_count  \n",
       "3                  gene clip3  \n",
       "4                  gene clip3  "
      ]
     },
     "metadata": {},
     "output_type": "display_data"
    }
   ],
   "source": [
    "for target in targets.target_names:\n",
    "    print(f\"First few lines of filtering information for {target}\")\n",
    "    display(filtered[target].head())"
   ]
  },
  {
   "cell_type": "markdown",
   "metadata": {},
   "source": [
    "As can be seen above, the `filter_reason` column gives which particular specification in `feature_parse_specs` was not met.\n",
    "\n",
    "Plot this inforrmation:"
   ]
  },
  {
   "cell_type": "code",
   "execution_count": 25,
   "metadata": {
    "execution": {
     "iopub.execute_input": "2023-05-26T00:17:52.020955Z",
     "iopub.status.busy": "2023-05-26T00:17:52.020683Z",
     "iopub.status.idle": "2023-05-26T00:17:52.277241Z",
     "shell.execute_reply": "2023-05-26T00:17:52.276561Z",
     "shell.execute_reply.started": "2023-05-26T00:17:52.020931Z"
    }
   },
   "outputs": [],
   "source": [
    "# NBVAL_IGNORE_OUTPUT\n",
    "for targetname in targets.target_names:\n",
    "    target_filtered = filtered[targetname]\n",
    "    nreasons = target_filtered[\"filter_reason\"].nunique()\n",
    "    p = (\n",
    "        ggplot(target_filtered, aes(\"filter_reason\"))\n",
    "        + geom_bar()\n",
    "        + facet_wrap(\"~ name\", nrow=1)\n",
    "        + labs(title=targetname)\n",
    "        + theme(\n",
    "            axis_text_x=element_text(angle=90),\n",
    "            figure_size=(0.3 * nreasons * len(pacbio_runs), 2.5),\n",
    "            panel_grid_major_x=element_blank(),  # no vertical grid lines\n",
    "        )\n",
    "    )\n",
    "    _ = p.draw()"
   ]
  },
  {
   "cell_type": "markdown",
   "metadata": {},
   "source": [
    "The example usage of [Targets.align_and_parse](https://jbloomlab.github.io/alignparse/alignparse.targets.html#alignparse.targets.Targets.align_and_parse) above read all of the information on the parsed alignments into data frames.\n",
    "For large data sets, these data frames might be so large that you don't want to read them into memory.\n",
    "In that case, use the `to_csv` option, which makes [Targets.align_and_parse](https://jbloomlab.github.io/alignparse/alignparse.targets.html#alignparse.targets.Targets.align_and_parse) simply give the locations of CSV files holding the data frames.\n",
    "Here is an example:"
   ]
  },
  {
   "cell_type": "code",
   "execution_count": 26,
   "metadata": {
    "execution": {
     "iopub.execute_input": "2023-05-26T00:17:52.282573Z",
     "iopub.status.busy": "2023-05-26T00:17:52.282083Z",
     "iopub.status.idle": "2023-05-26T00:17:53.412954Z",
     "shell.execute_reply": "2023-05-26T00:17:53.411693Z",
     "shell.execute_reply.started": "2023-05-26T00:17:52.282549Z"
    }
   },
   "outputs": [],
   "source": [
    "readstats_csv, aligned_csv, filtered_csv = targets.align_and_parse(\n",
    "    df=pacbio_runs,\n",
    "    mapper=mapper,\n",
    "    outdir=align_and_parse_outdir,\n",
    "    name_col=\"name\",\n",
    "    queryfile_col=\"fastq\",\n",
    "    group_cols=[\"library\"],\n",
    "    to_csv=True,\n",
    "    overwrite=True,  # overwrite any existing output\n",
    "    ncpus=-1,  # use all available CPUs\n",
    ")"
   ]
  },
  {
   "cell_type": "markdown",
   "metadata": {},
   "source": [
    "Now the returned information on the parsed alignments and filtering just gives the locations of the CSV files for the data frames:"
   ]
  },
  {
   "cell_type": "code",
   "execution_count": 27,
   "metadata": {
    "execution": {
     "iopub.execute_input": "2023-05-26T00:17:53.415178Z",
     "iopub.status.busy": "2023-05-26T00:17:53.414713Z",
     "iopub.status.idle": "2023-05-26T00:17:53.421693Z",
     "shell.execute_reply": "2023-05-26T00:17:53.420956Z",
     "shell.execute_reply.started": "2023-05-26T00:17:53.415145Z"
    }
   },
   "outputs": [
    {
     "name": "stdout",
     "output_type": "stream",
     "text": [
      "{'RecA_PacBio_amplicon': './output_files/RecA_align_and_parse/RecA_PacBio_amplicon_aligned.csv'}\n",
      "{'RecA_PacBio_amplicon': './output_files/RecA_align_and_parse/RecA_PacBio_amplicon_filtered.csv'}\n"
     ]
    }
   ],
   "source": [
    "print(aligned_csv)\n",
    "print(filtered_csv)"
   ]
  },
  {
   "cell_type": "markdown",
   "metadata": {},
   "source": [
    "Note that since no mutations are specified as empty strings in these CSV files, if you read them using [pandas.read_csv](https://pandas.pydata.org/pandas-docs/stable/reference/api/pandas.read_csv.html), you then need to do so using `na_filter=None` (i.e., `pandas.read_csv(<csv_file>, na_filter=None)`) so that empty strings are not converted to `nan` values.\n",
    "\n",
    "Here are all of the files created by running [Targets.align_and_parse](https://jbloomlab.github.io/alignparse/alignparse.targets.html#alignparse.targets.Targets.align_and_parse) (they also include SAM alignments and parsing results for each individual run):"
   ]
  },
  {
   "cell_type": "code",
   "execution_count": 28,
   "metadata": {
    "execution": {
     "iopub.execute_input": "2023-05-26T00:17:53.423128Z",
     "iopub.status.busy": "2023-05-26T00:17:53.422749Z",
     "iopub.status.idle": "2023-05-26T00:17:53.429968Z",
     "shell.execute_reply": "2023-05-26T00:17:53.429373Z",
     "shell.execute_reply.started": "2023-05-26T00:17:53.423102Z"
    }
   },
   "outputs": [
    {
     "name": "stdout",
     "output_type": "stream",
     "text": [
      "Contents of ./output_files/RecA_align_and_parse:\n",
      "------------------------------------------------\n",
      "  RecA_PacBio_amplicon_aligned.csv\n",
      "  RecA_PacBio_amplicon_filtered.csv\n",
      "  lib-1_recA_lib-1/RecA_PacBio_amplicon_aligned.csv\n",
      "  lib-1_recA_lib-1/RecA_PacBio_amplicon_filtered.csv\n",
      "  lib-1_recA_lib-1/alignments.sam\n",
      "  lib-2_recA_lib-2/RecA_PacBio_amplicon_aligned.csv\n",
      "  lib-2_recA_lib-2/RecA_PacBio_amplicon_filtered.csv\n",
      "  lib-2_recA_lib-2/alignments.sam\n"
     ]
    }
   ],
   "source": [
    "print(f\"Contents of {align_and_parse_outdir}:\\n\" + \"-\" * 48)\n",
    "for d, _, fs in sorted(os.walk(align_and_parse_outdir)):\n",
    "    for f in sorted(fs):\n",
    "        print(\"  \" + os.path.relpath(os.path.join(d, f), align_and_parse_outdir))"
   ]
  },
  {
   "cell_type": "markdown",
   "metadata": {},
   "source": [
    "## Per-barcode consensus sequences\n",
    "In a deep mutational scanning experiment, we typically want to determine the sequence of the gene variant associated with each barcode.\n",
    "In this section, we do that--and also estimate the empirical accuracy of the sequencing by determining how often two sequences with the same barcode are identical.\n",
    "\n",
    "We start with the `aligned_df` data frame generated in the previous subsection.\n",
    "First, we want to plot the distribution of accuracies for the barcodes and genes.\n",
    "Because these span a wide range, it's most convenient to convert the accuracies into error rates (1 - accuracy), and then plot these error rates on a log scale.\n",
    "In order to do this, we also need to set some floor for the error rates since zero can't be plotted on a log scale.\n",
    "Compute these \"floored\" error rates:"
   ]
  },
  {
   "cell_type": "code",
   "execution_count": 29,
   "metadata": {
    "execution": {
     "iopub.execute_input": "2023-05-26T00:17:53.431056Z",
     "iopub.status.busy": "2023-05-26T00:17:53.430759Z",
     "iopub.status.idle": "2023-05-26T00:17:53.438814Z",
     "shell.execute_reply": "2023-05-26T00:17:53.437777Z",
     "shell.execute_reply.started": "2023-05-26T00:17:53.431038Z"
    }
   },
   "outputs": [],
   "source": [
    "error_rate_floor = 1e-7  # error rates < this set to this\n",
    "\n",
    "aligned_df = aligned_df.assign(\n",
    "    barcode_error=lambda x: numpy.clip(\n",
    "        1 - x[\"barcode_accuracy\"], error_rate_floor, None\n",
    "    ),\n",
    "    gene_error=lambda x: numpy.clip(1 - x[\"gene_accuracy\"], error_rate_floor, None),\n",
    ")"
   ]
  },
  {
   "cell_type": "markdown",
   "metadata": {},
   "source": [
    "We anticipate excluding all CCSs for which the error rate for either the gene or barcode is $>10^{-4}$.\n",
    "Specify this cutoff:"
   ]
  },
  {
   "cell_type": "code",
   "execution_count": 30,
   "metadata": {
    "execution": {
     "iopub.execute_input": "2023-05-26T00:17:53.439880Z",
     "iopub.status.busy": "2023-05-26T00:17:53.439623Z",
     "iopub.status.idle": "2023-05-26T00:17:53.442979Z",
     "shell.execute_reply": "2023-05-26T00:17:53.442354Z",
     "shell.execute_reply.started": "2023-05-26T00:17:53.439859Z"
    }
   },
   "outputs": [],
   "source": [
    "error_cutoff = 1e-4"
   ]
  },
  {
   "cell_type": "markdown",
   "metadata": {},
   "source": [
    "Now plot the distributiton of these error rates, drawing an orange vertical line at the cutoff:"
   ]
  },
  {
   "cell_type": "code",
   "execution_count": 31,
   "metadata": {
    "execution": {
     "iopub.execute_input": "2023-05-26T00:17:53.444076Z",
     "iopub.status.busy": "2023-05-26T00:17:53.443778Z",
     "iopub.status.idle": "2023-05-26T00:17:54.060826Z",
     "shell.execute_reply": "2023-05-26T00:17:54.059975Z",
     "shell.execute_reply.started": "2023-05-26T00:17:53.444056Z"
    }
   },
   "outputs": [],
   "source": [
    "# NBVAL_IGNORE_OUTPUT\n",
    "p = (\n",
    "    ggplot(\n",
    "        aligned_df.melt(\n",
    "            id_vars=[\"library\"],\n",
    "            value_vars=[\"barcode_error\", \"gene_error\"],\n",
    "            var_name=\"feature_type\",\n",
    "            value_name=\"error rate\",\n",
    "        ),\n",
    "        aes(\"error rate\"),\n",
    "    )\n",
    "    + geom_histogram(bins=25)\n",
    "    + geom_vline(xintercept=error_cutoff, linetype=\"dashed\", color=CBPALETTE[1])\n",
    "    + facet_grid(\"library ~ feature_type\")\n",
    "    + theme(figure_size=(4.5, 2 * len(libraries)))\n",
    "    + ylab(\"number of CCSs\")\n",
    "    + scale_x_log10()\n",
    ")\n",
    "\n",
    "_ = p.draw()"
   ]
  },
  {
   "cell_type": "markdown",
   "metadata": {},
   "source": [
    "The plot above shows that a modest number of CCSs fail the error-rate filters (are to the right of the cutoff).\n",
    "\n",
    "We mark to retain the CCSs that pass the filters:"
   ]
  },
  {
   "cell_type": "code",
   "execution_count": 32,
   "metadata": {
    "execution": {
     "iopub.execute_input": "2023-05-26T00:17:54.062162Z",
     "iopub.status.busy": "2023-05-26T00:17:54.061839Z",
     "iopub.status.idle": "2023-05-26T00:17:54.067148Z",
     "shell.execute_reply": "2023-05-26T00:17:54.066415Z",
     "shell.execute_reply.started": "2023-05-26T00:17:54.062140Z"
    }
   },
   "outputs": [],
   "source": [
    "aligned_df = aligned_df.assign(\n",
    "    retained=lambda x: (\n",
    "        (x[\"gene_error\"] <= error_cutoff) & (x[\"barcode_error\"] <= error_cutoff)\n",
    "    )\n",
    ")"
   ]
  },
  {
   "cell_type": "markdown",
   "metadata": {},
   "source": [
    "Here are the numbers retained:"
   ]
  },
  {
   "cell_type": "code",
   "execution_count": 33,
   "metadata": {
    "execution": {
     "iopub.execute_input": "2023-05-26T00:17:54.068281Z",
     "iopub.status.busy": "2023-05-26T00:17:54.067994Z",
     "iopub.status.idle": "2023-05-26T00:17:54.079008Z",
     "shell.execute_reply": "2023-05-26T00:17:54.078131Z",
     "shell.execute_reply.started": "2023-05-26T00:17:54.068261Z"
    }
   },
   "outputs": [
    {
     "data": {
      "text/html": [
       "<div>\n",
       "<style scoped>\n",
       "    .dataframe tbody tr th:only-of-type {\n",
       "        vertical-align: middle;\n",
       "    }\n",
       "\n",
       "    .dataframe tbody tr th {\n",
       "        vertical-align: top;\n",
       "    }\n",
       "\n",
       "    .dataframe thead th {\n",
       "        text-align: right;\n",
       "    }\n",
       "</style>\n",
       "<table border=\"1\" class=\"dataframe\">\n",
       "  <thead>\n",
       "    <tr style=\"text-align: right;\">\n",
       "      <th></th>\n",
       "      <th>library</th>\n",
       "      <th>retained</th>\n",
       "      <th>number of CCSs</th>\n",
       "    </tr>\n",
       "  </thead>\n",
       "  <tbody>\n",
       "    <tr>\n",
       "      <th>0</th>\n",
       "      <td>lib-1</td>\n",
       "      <td>False</td>\n",
       "      <td>33</td>\n",
       "    </tr>\n",
       "    <tr>\n",
       "      <th>1</th>\n",
       "      <td>lib-1</td>\n",
       "      <td>True</td>\n",
       "      <td>90</td>\n",
       "    </tr>\n",
       "    <tr>\n",
       "      <th>2</th>\n",
       "      <td>lib-2</td>\n",
       "      <td>False</td>\n",
       "      <td>39</td>\n",
       "    </tr>\n",
       "    <tr>\n",
       "      <th>3</th>\n",
       "      <td>lib-2</td>\n",
       "      <td>True</td>\n",
       "      <td>73</td>\n",
       "    </tr>\n",
       "  </tbody>\n",
       "</table>\n",
       "</div>"
      ],
      "text/plain": [
       "  library  retained  number of CCSs\n",
       "0   lib-1     False              33\n",
       "1   lib-1      True              90\n",
       "2   lib-2     False              39\n",
       "3   lib-2      True              73"
      ]
     },
     "execution_count": 33,
     "metadata": {},
     "output_type": "execute_result"
    }
   ],
   "source": [
    "(\n",
    "    aligned_df.groupby([\"library\", \"retained\"])\n",
    "    .size()\n",
    "    .rename(\"number of CCSs\")\n",
    "    .reset_index()\n",
    ")"
   ]
  },
  {
   "cell_type": "markdown",
   "metadata": {},
   "source": [
    "Before getting the consensus sequence for each barcode, we next want to know how many different CCSs we have per barcode among the retained CCSs.\n",
    "Plot this distribution:"
   ]
  },
  {
   "cell_type": "code",
   "execution_count": 34,
   "metadata": {
    "execution": {
     "iopub.execute_input": "2023-05-26T00:17:54.080152Z",
     "iopub.status.busy": "2023-05-26T00:17:54.079877Z",
     "iopub.status.idle": "2023-05-26T00:17:54.263695Z",
     "shell.execute_reply": "2023-05-26T00:17:54.262818Z",
     "shell.execute_reply.started": "2023-05-26T00:17:54.080132Z"
    }
   },
   "outputs": [],
   "source": [
    "# NBVAL_IGNORE_OUTPUT\n",
    "max_CCSs = 8  # in plot, group barcodes with >= this many CCSs\n",
    "\n",
    "p = (\n",
    "    ggplot(\n",
    "        aligned_df.query(\"retained\")\n",
    "        .groupby([\"library\", \"barcode\"])\n",
    "        .size()\n",
    "        .rename(\"nseqs\")\n",
    "        .reset_index()\n",
    "        .assign(nseqs=lambda x: numpy.clip(x[\"nseqs\"], None, max_CCSs)),\n",
    "        aes(\"nseqs\"),\n",
    "    )\n",
    "    + geom_bar()\n",
    "    + facet_wrap(\"~ library\", nrow=1)\n",
    "    + theme(\n",
    "        figure_size=(1.75 * len(libraries), 2),\n",
    "        panel_grid_major_x=element_blank(),  # no vertial tick lines\n",
    "    )\n",
    "    + ylab(\"number of barcodes\")\n",
    "    + xlab(\"CCSs for barcode\")\n",
    ")\n",
    "\n",
    "_ = p.draw()"
   ]
  },
  {
   "cell_type": "markdown",
   "metadata": {},
   "source": [
    "We see above that barcodes are often sequenced just once, but are also often sequenced two or more times.\n",
    "\n",
    "From the barcodes with multiple CCSs, we can estimate the true (or \"empirical\") accuracy of the CCSs.\n",
    "This is different than the purported accuracy returned by the `ccs` program and plotted above.\n",
    "Those `ccs` accuracies are PacBio's estimation of accuracy from the sequencing, but they may not be fully correct.\n",
    "In addition, not all the \"error\" comes from pure sequencing errors: we can also have experimental factors such as barcode collisions (two different variants sharing the same barcode) or PCR strand exchange make molecules with the same barcode actually different.\n",
    "\n",
    "The concept of empirical accuracy is quite simple: we look to see how often CCSs with the same barcode actually have the same gene sequence.\n",
    "If the sequencing is accurate and their aren't additional experimental factors causing effective errors, then CCSs with the same barcode will always be identical.\n",
    "The less often they are identical, the lower the empirical accuracy.\n",
    "The actual calculation of empirical accuracy is implemented in [alignparse.consensus.empirical_accuracy](https://jbloomlab.github.io/alignparse/alignparse.consensus.html#alignparse.consensus.empirical_accuracy) (see the docs of that function for a full explanation of the calculation).\n",
    "\n",
    "In addition, we'd like to split out the analysis by whether or not the CCSs have an indel.\n",
    "The reason is that indels are the main source of error in PacBio sequencing, but we plan to disregard all sequences with indels anyway.\n",
    "So first use [alignparse.consensus.add_mut_info_cols](https://jbloomlab.github.io/alignparse/alignparse.consensus.html#alignparse.consensus.add_mut_info_cols) to add information about whether the CCSs have indels:"
   ]
  },
  {
   "cell_type": "code",
   "execution_count": 35,
   "metadata": {
    "execution": {
     "iopub.execute_input": "2023-05-26T00:17:54.264955Z",
     "iopub.status.busy": "2023-05-26T00:17:54.264625Z",
     "iopub.status.idle": "2023-05-26T00:17:54.274429Z",
     "shell.execute_reply": "2023-05-26T00:17:54.273732Z",
     "shell.execute_reply.started": "2023-05-26T00:17:54.264925Z"
    }
   },
   "outputs": [],
   "source": [
    "aligned_df = alignparse.consensus.add_mut_info_cols(\n",
    "    aligned_df, mutation_col=\"gene_mutations\", n_indel_col=\"n_indels\"\n",
    ")\n",
    "\n",
    "aligned_df = aligned_df.assign(has_indel=lambda x: x[\"n_indels\"] > 0)"
   ]
  },
  {
   "cell_type": "markdown",
   "metadata": {},
   "source": [
    "Here are the numbers with and without indels among the retained CCSs:"
   ]
  },
  {
   "cell_type": "code",
   "execution_count": 36,
   "metadata": {
    "execution": {
     "iopub.execute_input": "2023-05-26T00:17:54.275456Z",
     "iopub.status.busy": "2023-05-26T00:17:54.275257Z",
     "iopub.status.idle": "2023-05-26T00:17:54.285711Z",
     "shell.execute_reply": "2023-05-26T00:17:54.285113Z",
     "shell.execute_reply.started": "2023-05-26T00:17:54.275438Z"
    }
   },
   "outputs": [
    {
     "data": {
      "text/html": [
       "<div>\n",
       "<style scoped>\n",
       "    .dataframe tbody tr th:only-of-type {\n",
       "        vertical-align: middle;\n",
       "    }\n",
       "\n",
       "    .dataframe tbody tr th {\n",
       "        vertical-align: top;\n",
       "    }\n",
       "\n",
       "    .dataframe thead th {\n",
       "        text-align: right;\n",
       "    }\n",
       "</style>\n",
       "<table border=\"1\" class=\"dataframe\">\n",
       "  <thead>\n",
       "    <tr style=\"text-align: right;\">\n",
       "      <th></th>\n",
       "      <th>library</th>\n",
       "      <th>has_indel</th>\n",
       "      <th>number_CCSs</th>\n",
       "    </tr>\n",
       "  </thead>\n",
       "  <tbody>\n",
       "    <tr>\n",
       "      <th>0</th>\n",
       "      <td>lib-1</td>\n",
       "      <td>False</td>\n",
       "      <td>76</td>\n",
       "    </tr>\n",
       "    <tr>\n",
       "      <th>1</th>\n",
       "      <td>lib-1</td>\n",
       "      <td>True</td>\n",
       "      <td>14</td>\n",
       "    </tr>\n",
       "    <tr>\n",
       "      <th>2</th>\n",
       "      <td>lib-2</td>\n",
       "      <td>False</td>\n",
       "      <td>65</td>\n",
       "    </tr>\n",
       "    <tr>\n",
       "      <th>3</th>\n",
       "      <td>lib-2</td>\n",
       "      <td>True</td>\n",
       "      <td>8</td>\n",
       "    </tr>\n",
       "  </tbody>\n",
       "</table>\n",
       "</div>"
      ],
      "text/plain": [
       "  library  has_indel  number_CCSs\n",
       "0   lib-1      False           76\n",
       "1   lib-1       True           14\n",
       "2   lib-2      False           65\n",
       "3   lib-2       True            8"
      ]
     },
     "execution_count": 36,
     "metadata": {},
     "output_type": "execute_result"
    }
   ],
   "source": [
    "(\n",
    "    aligned_df.query(\"retained\")\n",
    "    .groupby([\"library\", \"has_indel\"])\n",
    "    .size()\n",
    "    .rename(\"number_CCSs\")\n",
    "    .reset_index()\n",
    ")"
   ]
  },
  {
   "cell_type": "markdown",
   "metadata": {},
   "source": [
    "Now we can compute the empirical accuracy.\n",
    "First, among all retained CCSs:"
   ]
  },
  {
   "cell_type": "code",
   "execution_count": 37,
   "metadata": {
    "execution": {
     "iopub.execute_input": "2023-05-26T00:17:54.286740Z",
     "iopub.status.busy": "2023-05-26T00:17:54.286536Z",
     "iopub.status.idle": "2023-05-26T00:17:54.328490Z",
     "shell.execute_reply": "2023-05-26T00:17:54.327598Z",
     "shell.execute_reply.started": "2023-05-26T00:17:54.286722Z"
    }
   },
   "outputs": [
    {
     "data": {
      "text/html": [
       "<div>\n",
       "<style scoped>\n",
       "    .dataframe tbody tr th:only-of-type {\n",
       "        vertical-align: middle;\n",
       "    }\n",
       "\n",
       "    .dataframe tbody tr th {\n",
       "        vertical-align: top;\n",
       "    }\n",
       "\n",
       "    .dataframe thead th {\n",
       "        text-align: right;\n",
       "    }\n",
       "</style>\n",
       "<table border=\"1\" class=\"dataframe\">\n",
       "  <thead>\n",
       "    <tr style=\"text-align: right;\">\n",
       "      <th></th>\n",
       "      <th>library</th>\n",
       "      <th>accuracy</th>\n",
       "    </tr>\n",
       "  </thead>\n",
       "  <tbody>\n",
       "    <tr>\n",
       "      <th>0</th>\n",
       "      <td>lib-1</td>\n",
       "      <td>0.864817</td>\n",
       "    </tr>\n",
       "    <tr>\n",
       "      <th>1</th>\n",
       "      <td>lib-2</td>\n",
       "      <td>0.786710</td>\n",
       "    </tr>\n",
       "  </tbody>\n",
       "</table>\n",
       "</div>"
      ],
      "text/plain": [
       "  library  accuracy\n",
       "0   lib-1  0.864817\n",
       "1   lib-2  0.786710"
      ]
     },
     "execution_count": 37,
     "metadata": {},
     "output_type": "execute_result"
    }
   ],
   "source": [
    "alignparse.consensus.empirical_accuracy(\n",
    "    aligned_df.query(\"retained\"), mutation_col=\"gene_mutations\"\n",
    ")"
   ]
  },
  {
   "cell_type": "markdown",
   "metadata": {},
   "source": [
    "And excluding CCSs with indels:"
   ]
  },
  {
   "cell_type": "code",
   "execution_count": 38,
   "metadata": {
    "execution": {
     "iopub.execute_input": "2023-05-26T00:17:54.330284Z",
     "iopub.status.busy": "2023-05-26T00:17:54.329853Z",
     "iopub.status.idle": "2023-05-26T00:17:54.384012Z",
     "shell.execute_reply": "2023-05-26T00:17:54.383553Z",
     "shell.execute_reply.started": "2023-05-26T00:17:54.330250Z"
    }
   },
   "outputs": [
    {
     "data": {
      "text/html": [
       "<div>\n",
       "<style scoped>\n",
       "    .dataframe tbody tr th:only-of-type {\n",
       "        vertical-align: middle;\n",
       "    }\n",
       "\n",
       "    .dataframe tbody tr th {\n",
       "        vertical-align: top;\n",
       "    }\n",
       "\n",
       "    .dataframe thead th {\n",
       "        text-align: right;\n",
       "    }\n",
       "</style>\n",
       "<table border=\"1\" class=\"dataframe\">\n",
       "  <thead>\n",
       "    <tr style=\"text-align: right;\">\n",
       "      <th></th>\n",
       "      <th>library</th>\n",
       "      <th>accuracy</th>\n",
       "    </tr>\n",
       "  </thead>\n",
       "  <tbody>\n",
       "    <tr>\n",
       "      <th>0</th>\n",
       "      <td>lib-1</td>\n",
       "      <td>0.948033</td>\n",
       "    </tr>\n",
       "    <tr>\n",
       "      <th>1</th>\n",
       "      <td>lib-2</td>\n",
       "      <td>0.928539</td>\n",
       "    </tr>\n",
       "  </tbody>\n",
       "</table>\n",
       "</div>"
      ],
      "text/plain": [
       "  library  accuracy\n",
       "0   lib-1  0.948033\n",
       "1   lib-2  0.928539"
      ]
     },
     "execution_count": 38,
     "metadata": {},
     "output_type": "execute_result"
    }
   ],
   "source": [
    "alignparse.consensus.empirical_accuracy(\n",
    "    aligned_df.query(\"retained & not has_indel\"), mutation_col=\"gene_mutations\"\n",
    ")"
   ]
  },
  {
   "cell_type": "markdown",
   "metadata": {},
   "source": [
    "As can be seen above, the empirical accuracy is quite a bit higher when excluding sequences with indels, which is what will happen in practice below.\n",
    "However, the empirical accuracy is still much lower than the PacBio `ccs` estimated accuracy, since above we only retained CCSs with accuracy >99.99%.\n",
    "This indicates that either the `ccs` estimated accuracies are not actually accurate, or other experimental factors also contribute to decrease the empirical accuracy.\n",
    "You can play around with the filter on the `ccs`-estimated accuracies to see how they affect the empirical accuracy--but in general, we find on real (larger) datasets that beyond a point, increasing the filter on the `ccs`-estimated accuracies no longer further enhances the empirical accuracy.\n",
    "\n",
    "Finally, we'd like to actually build a consensus sequence for each barcodes.\n",
    "There are lots of existing programs with complex error models that use Q-values to build consensus sequences--but we instead use the simple approach implemented in [alignparse.consensus.simple_mutconsensus](https://jbloomlab.github.io/alignparse/alignparse.consensus.html#alignparse.consensus.simple_mutconsensus).\n",
    "The documentation for that function explains the method in detail, but basically it works like this:\n",
    " 1. When there is just one CCS per barcode, the consensus is just that sequence.\n",
    " 2. When there are multiple CCSs per barcode, they are used to build a consensus--however, the entire barcode is discarded if there are many differences between CCSs with the barcode, or high-frequency non-consensus mutations. The reason that barcodes are discarded in such cases as many differences between CCSs or high-frequency non-consensus mutations suggest errors such as barcode collisions or PCR strand exchange.\n",
    " \n",
    "The advantage of this simple method is that it tries to throw away barcodes for which there is likely to be some source of experimental error.\n",
    "\n",
    "Build the consensus sequences:"
   ]
  },
  {
   "cell_type": "code",
   "execution_count": 39,
   "metadata": {
    "execution": {
     "iopub.execute_input": "2023-05-26T00:17:54.384960Z",
     "iopub.status.busy": "2023-05-26T00:17:54.384695Z",
     "iopub.status.idle": "2023-05-26T00:17:54.400334Z",
     "shell.execute_reply": "2023-05-26T00:17:54.399787Z",
     "shell.execute_reply.started": "2023-05-26T00:17:54.384943Z"
    }
   },
   "outputs": [],
   "source": [
    "consensus, dropped = alignparse.consensus.simple_mutconsensus(\n",
    "    aligned_df.query(\"retained\"),\n",
    "    group_cols=(\"library\", \"barcode\"),\n",
    "    mutation_col=\"gene_mutations\",\n",
    ")"
   ]
  },
  {
   "cell_type": "markdown",
   "metadata": {},
   "source": [
    "Note how we get back two data frames.\n",
    "The `consensus` data frame simply gives the consensus sequences:"
   ]
  },
  {
   "cell_type": "code",
   "execution_count": 40,
   "metadata": {
    "execution": {
     "iopub.execute_input": "2023-05-26T00:17:54.401434Z",
     "iopub.status.busy": "2023-05-26T00:17:54.401145Z",
     "iopub.status.idle": "2023-05-26T00:17:54.408659Z",
     "shell.execute_reply": "2023-05-26T00:17:54.408071Z",
     "shell.execute_reply.started": "2023-05-26T00:17:54.401415Z"
    }
   },
   "outputs": [
    {
     "data": {
      "text/html": [
       "<div>\n",
       "<style scoped>\n",
       "    .dataframe tbody tr th:only-of-type {\n",
       "        vertical-align: middle;\n",
       "    }\n",
       "\n",
       "    .dataframe tbody tr th {\n",
       "        vertical-align: top;\n",
       "    }\n",
       "\n",
       "    .dataframe thead th {\n",
       "        text-align: right;\n",
       "    }\n",
       "</style>\n",
       "<table border=\"1\" class=\"dataframe\">\n",
       "  <thead>\n",
       "    <tr style=\"text-align: right;\">\n",
       "      <th></th>\n",
       "      <th>library</th>\n",
       "      <th>barcode</th>\n",
       "      <th>gene_mutations</th>\n",
       "      <th>variant_call_support</th>\n",
       "    </tr>\n",
       "  </thead>\n",
       "  <tbody>\n",
       "    <tr>\n",
       "      <th>0</th>\n",
       "      <td>lib-1</td>\n",
       "      <td>AAAGTCTGACCGAAAAAA</td>\n",
       "      <td>C154A G509C T510A C823G T824G G825T del763to763</td>\n",
       "      <td>1</td>\n",
       "    </tr>\n",
       "    <tr>\n",
       "      <th>1</th>\n",
       "      <td>lib-1</td>\n",
       "      <td>AACACGTTATAGATGTAG</td>\n",
       "      <td>A52C T53C T54C C85A C87G T277G T278A C296A G297C</td>\n",
       "      <td>3</td>\n",
       "    </tr>\n",
       "    <tr>\n",
       "      <th>2</th>\n",
       "      <td>lib-1</td>\n",
       "      <td>AGACCGGGCGGGGCCTAT</td>\n",
       "      <td>A526G G694A G715C A937G C939G</td>\n",
       "      <td>4</td>\n",
       "    </tr>\n",
       "    <tr>\n",
       "      <th>3</th>\n",
       "      <td>lib-1</td>\n",
       "      <td>AGAGAGATATTAAAAAAA</td>\n",
       "      <td>C22A A23C G24C G34A C35G G36A G400C G402C A631...</td>\n",
       "      <td>1</td>\n",
       "    </tr>\n",
       "    <tr>\n",
       "      <th>4</th>\n",
       "      <td>lib-1</td>\n",
       "      <td>ATCTCCTCTCCAAGCCGT</td>\n",
       "      <td>G326C C327A</td>\n",
       "      <td>1</td>\n",
       "    </tr>\n",
       "  </tbody>\n",
       "</table>\n",
       "</div>"
      ],
      "text/plain": [
       "  library             barcode   \n",
       "0   lib-1  AAAGTCTGACCGAAAAAA  \\\n",
       "1   lib-1  AACACGTTATAGATGTAG   \n",
       "2   lib-1  AGACCGGGCGGGGCCTAT   \n",
       "3   lib-1  AGAGAGATATTAAAAAAA   \n",
       "4   lib-1  ATCTCCTCTCCAAGCCGT   \n",
       "\n",
       "                                      gene_mutations  variant_call_support  \n",
       "0    C154A G509C T510A C823G T824G G825T del763to763                     1  \n",
       "1   A52C T53C T54C C85A C87G T277G T278A C296A G297C                     3  \n",
       "2                      A526G G694A G715C A937G C939G                     4  \n",
       "3  C22A A23C G24C G34A C35G G36A G400C G402C A631...                     1  \n",
       "4                                        G326C C327A                     1  "
      ]
     },
     "execution_count": 40,
     "metadata": {},
     "output_type": "execute_result"
    }
   ],
   "source": [
    "consensus.head()"
   ]
  },
  {
   "cell_type": "markdown",
   "metadata": {},
   "source": [
    "In addition to the mutations in the consensus, it also gives the `variant_call_support`, which is the number of CCSs supporting the consensus call.\n",
    "When the call support is one, then we expect the accuracy to be equal to the empirical ones we computed above (either with or without indels depending on whether we exclude consensus sequences with indels).\n",
    "When the variant call support is greater than one, the accuracy will be higher as there are more CCSs supporting the consensus call.\n",
    "\n",
    "It is often useful to get the mutations in `consensus` that are just substitutions, and also denote which sequences have indels.\n",
    "That can be done as follows:"
   ]
  },
  {
   "cell_type": "code",
   "execution_count": 41,
   "metadata": {
    "execution": {
     "iopub.execute_input": "2023-05-26T00:17:54.409652Z",
     "iopub.status.busy": "2023-05-26T00:17:54.409384Z",
     "iopub.status.idle": "2023-05-26T00:17:54.422675Z",
     "shell.execute_reply": "2023-05-26T00:17:54.421931Z",
     "shell.execute_reply.started": "2023-05-26T00:17:54.409635Z"
    }
   },
   "outputs": [
    {
     "data": {
      "text/html": [
       "<div>\n",
       "<style scoped>\n",
       "    .dataframe tbody tr th:only-of-type {\n",
       "        vertical-align: middle;\n",
       "    }\n",
       "\n",
       "    .dataframe tbody tr th {\n",
       "        vertical-align: top;\n",
       "    }\n",
       "\n",
       "    .dataframe thead th {\n",
       "        text-align: right;\n",
       "    }\n",
       "</style>\n",
       "<table border=\"1\" class=\"dataframe\">\n",
       "  <thead>\n",
       "    <tr style=\"text-align: right;\">\n",
       "      <th></th>\n",
       "      <th>library</th>\n",
       "      <th>barcode</th>\n",
       "      <th>gene_mutations</th>\n",
       "      <th>variant_call_support</th>\n",
       "      <th>substitutions</th>\n",
       "      <th>number_of_indels</th>\n",
       "    </tr>\n",
       "  </thead>\n",
       "  <tbody>\n",
       "    <tr>\n",
       "      <th>0</th>\n",
       "      <td>lib-1</td>\n",
       "      <td>AAAGTCTGACCGAAAAAA</td>\n",
       "      <td>C154A G509C T510A C823G T824G G825T del763to763</td>\n",
       "      <td>1</td>\n",
       "      <td>C154A G509C T510A C823G T824G G825T</td>\n",
       "      <td>1</td>\n",
       "    </tr>\n",
       "    <tr>\n",
       "      <th>1</th>\n",
       "      <td>lib-1</td>\n",
       "      <td>AACACGTTATAGATGTAG</td>\n",
       "      <td>A52C T53C T54C C85A C87G T277G T278A C296A G297C</td>\n",
       "      <td>3</td>\n",
       "      <td>A52C T53C T54C C85A C87G T277G T278A C296A G297C</td>\n",
       "      <td>0</td>\n",
       "    </tr>\n",
       "    <tr>\n",
       "      <th>2</th>\n",
       "      <td>lib-1</td>\n",
       "      <td>AGACCGGGCGGGGCCTAT</td>\n",
       "      <td>A526G G694A G715C A937G C939G</td>\n",
       "      <td>4</td>\n",
       "      <td>A526G G694A G715C A937G C939G</td>\n",
       "      <td>0</td>\n",
       "    </tr>\n",
       "    <tr>\n",
       "      <th>3</th>\n",
       "      <td>lib-1</td>\n",
       "      <td>AGAGAGATATTAAAAAAA</td>\n",
       "      <td>C22A A23C G24C G34A C35G G36A G400C G402C A631...</td>\n",
       "      <td>1</td>\n",
       "      <td>C22A A23C G24C G34A C35G G36A G400C G402C A631...</td>\n",
       "      <td>0</td>\n",
       "    </tr>\n",
       "    <tr>\n",
       "      <th>4</th>\n",
       "      <td>lib-1</td>\n",
       "      <td>ATCTCCTCTCCAAGCCGT</td>\n",
       "      <td>G326C C327A</td>\n",
       "      <td>1</td>\n",
       "      <td>G326C C327A</td>\n",
       "      <td>0</td>\n",
       "    </tr>\n",
       "  </tbody>\n",
       "</table>\n",
       "</div>"
      ],
      "text/plain": [
       "  library             barcode   \n",
       "0   lib-1  AAAGTCTGACCGAAAAAA  \\\n",
       "1   lib-1  AACACGTTATAGATGTAG   \n",
       "2   lib-1  AGACCGGGCGGGGCCTAT   \n",
       "3   lib-1  AGAGAGATATTAAAAAAA   \n",
       "4   lib-1  ATCTCCTCTCCAAGCCGT   \n",
       "\n",
       "                                      gene_mutations  variant_call_support   \n",
       "0    C154A G509C T510A C823G T824G G825T del763to763                     1  \\\n",
       "1   A52C T53C T54C C85A C87G T277G T278A C296A G297C                     3   \n",
       "2                      A526G G694A G715C A937G C939G                     4   \n",
       "3  C22A A23C G24C G34A C35G G36A G400C G402C A631...                     1   \n",
       "4                                        G326C C327A                     1   \n",
       "\n",
       "                                       substitutions  number_of_indels  \n",
       "0                C154A G509C T510A C823G T824G G825T                 1  \n",
       "1   A52C T53C T54C C85A C87G T277G T278A C296A G297C                 0  \n",
       "2                      A526G G694A G715C A937G C939G                 0  \n",
       "3  C22A A23C G24C G34A C35G G36A G400C G402C A631...                 0  \n",
       "4                                        G326C C327A                 0  "
      ]
     },
     "execution_count": 41,
     "metadata": {},
     "output_type": "execute_result"
    }
   ],
   "source": [
    "consensus = alignparse.consensus.add_mut_info_cols(\n",
    "    consensus,\n",
    "    mutation_col=\"gene_mutations\",\n",
    "    sub_str_col=\"substitutions\",\n",
    "    n_indel_col=\"number_of_indels\",\n",
    "    overwrite_cols=True,\n",
    ")\n",
    "\n",
    "consensus.head()"
   ]
  },
  {
   "cell_type": "markdown",
   "metadata": {},
   "source": [
    "If you filter the data frame above for just those barcodes with no indels, you can then pass the data frame directly into a [dms_variants.codonvarianttable.CodonVariantTable](https://jbloomlab.github.io/dms_variants/dms_variants.codonvarianttable.html#dms_variants.codonvarianttable.CodonVariantTable) for further analysis.\n",
    "\n",
    "You can also look at what happened to the barcodes for which we could **not** build consensus sequences by looking at the `dropped` data frame:"
   ]
  },
  {
   "cell_type": "code",
   "execution_count": 42,
   "metadata": {
    "execution": {
     "iopub.execute_input": "2023-05-26T00:17:54.424013Z",
     "iopub.status.busy": "2023-05-26T00:17:54.423658Z",
     "iopub.status.idle": "2023-05-26T00:17:54.433040Z",
     "shell.execute_reply": "2023-05-26T00:17:54.432164Z",
     "shell.execute_reply.started": "2023-05-26T00:17:54.423990Z"
    }
   },
   "outputs": [
    {
     "data": {
      "text/html": [
       "<div>\n",
       "<style scoped>\n",
       "    .dataframe tbody tr th:only-of-type {\n",
       "        vertical-align: middle;\n",
       "    }\n",
       "\n",
       "    .dataframe tbody tr th {\n",
       "        vertical-align: top;\n",
       "    }\n",
       "\n",
       "    .dataframe thead th {\n",
       "        text-align: right;\n",
       "    }\n",
       "</style>\n",
       "<table border=\"1\" class=\"dataframe\">\n",
       "  <thead>\n",
       "    <tr style=\"text-align: right;\">\n",
       "      <th></th>\n",
       "      <th>library</th>\n",
       "      <th>barcode</th>\n",
       "      <th>drop_reason</th>\n",
       "      <th>nseqs</th>\n",
       "    </tr>\n",
       "  </thead>\n",
       "  <tbody>\n",
       "    <tr>\n",
       "      <th>0</th>\n",
       "      <td>lib-1</td>\n",
       "      <td>CTATACCCAAATTAATAA</td>\n",
       "      <td>subs diff too large</td>\n",
       "      <td>2</td>\n",
       "    </tr>\n",
       "    <tr>\n",
       "      <th>1</th>\n",
       "      <td>lib-1</td>\n",
       "      <td>CTGATTTGGCTTTATTTT</td>\n",
       "      <td>subs diff too large</td>\n",
       "      <td>2</td>\n",
       "    </tr>\n",
       "    <tr>\n",
       "      <th>2</th>\n",
       "      <td>lib-2</td>\n",
       "      <td>CTGATATACGTACGCAAC</td>\n",
       "      <td>subs diff too large</td>\n",
       "      <td>3</td>\n",
       "    </tr>\n",
       "    <tr>\n",
       "      <th>3</th>\n",
       "      <td>lib-2</td>\n",
       "      <td>TACCCTGCCTCGCCGAAC</td>\n",
       "      <td>subs diff too large</td>\n",
       "      <td>2</td>\n",
       "    </tr>\n",
       "  </tbody>\n",
       "</table>\n",
       "</div>"
      ],
      "text/plain": [
       "  library             barcode          drop_reason  nseqs\n",
       "0   lib-1  CTATACCCAAATTAATAA  subs diff too large      2\n",
       "1   lib-1  CTGATTTGGCTTTATTTT  subs diff too large      2\n",
       "2   lib-2  CTGATATACGTACGCAAC  subs diff too large      3\n",
       "3   lib-2  TACCCTGCCTCGCCGAAC  subs diff too large      2"
      ]
     },
     "execution_count": 42,
     "metadata": {},
     "output_type": "execute_result"
    }
   ],
   "source": [
    "dropped"
   ]
  },
  {
   "cell_type": "markdown",
   "metadata": {},
   "source": [
    "Or to summarize the drop reasons:"
   ]
  },
  {
   "cell_type": "code",
   "execution_count": 43,
   "metadata": {
    "execution": {
     "iopub.execute_input": "2023-05-26T00:17:54.434211Z",
     "iopub.status.busy": "2023-05-26T00:17:54.433893Z",
     "iopub.status.idle": "2023-05-26T00:17:54.443556Z",
     "shell.execute_reply": "2023-05-26T00:17:54.442779Z",
     "shell.execute_reply.started": "2023-05-26T00:17:54.434191Z"
    }
   },
   "outputs": [
    {
     "data": {
      "text/html": [
       "<div>\n",
       "<style scoped>\n",
       "    .dataframe tbody tr th:only-of-type {\n",
       "        vertical-align: middle;\n",
       "    }\n",
       "\n",
       "    .dataframe tbody tr th {\n",
       "        vertical-align: top;\n",
       "    }\n",
       "\n",
       "    .dataframe thead th {\n",
       "        text-align: right;\n",
       "    }\n",
       "</style>\n",
       "<table border=\"1\" class=\"dataframe\">\n",
       "  <thead>\n",
       "    <tr style=\"text-align: right;\">\n",
       "      <th></th>\n",
       "      <th>drop_reason</th>\n",
       "      <th>number_barcodes</th>\n",
       "    </tr>\n",
       "  </thead>\n",
       "  <tbody>\n",
       "    <tr>\n",
       "      <th>0</th>\n",
       "      <td>subs diff too large</td>\n",
       "      <td>4</td>\n",
       "    </tr>\n",
       "  </tbody>\n",
       "</table>\n",
       "</div>"
      ],
      "text/plain": [
       "           drop_reason  number_barcodes\n",
       "0  subs diff too large                4"
      ]
     },
     "execution_count": 43,
     "metadata": {},
     "output_type": "execute_result"
    }
   ],
   "source": [
    "(dropped.groupby(\"drop_reason\").size().rename(\"number_barcodes\").reset_index())"
   ]
  },
  {
   "cell_type": "markdown",
   "metadata": {},
   "source": [
    "We see that only a few barcodes were dropped, and that in all cases the reason was that the differences in number of substitutions among CCSs within the barcode was too large."
   ]
  }
 ],
 "metadata": {
  "kernelspec": {
   "display_name": "Python 3 (ipykernel)",
   "language": "python",
   "name": "python3"
  },
  "language_info": {
   "codemirror_mode": {
    "name": "ipython",
    "version": 3
   },
   "file_extension": ".py",
   "mimetype": "text/x-python",
   "name": "python",
   "nbconvert_exporter": "python",
   "pygments_lexer": "ipython3",
   "version": "3.11.3"
  },
  "toc": {
   "nav_menu": {},
   "number_sections": false,
   "sideBar": true,
   "skip_h1_title": false,
   "toc_cell": false,
   "toc_position": {},
   "toc_section_display": true,
   "toc_window_display": true
  }
 },
 "nbformat": 4,
 "nbformat_minor": 4
}
